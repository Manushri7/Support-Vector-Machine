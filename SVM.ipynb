{
 "cells": [
  {
   "cell_type": "markdown",
   "metadata": {
    "colab": {},
    "colab_type": "code",
    "id": "3ZMzThodv4T7"
   },
   "source": [
    "#  Support Vector Machine on DonorsChoose"
   ]
  },
  {
   "cell_type": "markdown",
   "metadata": {},
   "source": [
    "DonorsChoose.org receives hundreds of thousands of project proposals each year for classroom projects in need of funding. Right now, a large number of volunteers is needed to manually screen each submission before it's approved to be posted on the DonorsChoose.org website. Next year, DonorsChoose.org expects to receive close to 500,000 project proposals. As a result, there are three main problems they need to solve: How to scale current manual processes and resources to screen 500,000 projects so that they can be posted as quickly and as efficiently as possible How to increase the consistency of project vetting across different volunteers to improve the experience for teachers How to focus volunteer time on the applications that need the most assistance\n",
    "\n",
    "The goal of the competition is to predict whether or not a DonorsChoose.org project proposal submitted by a teacher will be approved, using the text of project descriptions as well as additional metadata about the project, teacher, and school. DonorsChoose.org can then use this information to identify projects most likely to need further review before approval."
   ]
  },
  {
   "cell_type": "code",
   "execution_count": 1,
   "metadata": {},
   "outputs": [],
   "source": [
    "%matplotlib inline\n",
    "import warnings\n",
    "warnings.filterwarnings(\"ignore\")\n",
    "\n",
    "import sqlite3\n",
    "import pandas as pd\n",
    "import numpy as np\n",
    "import nltk\n",
    "import string\n",
    "import matplotlib.pyplot as plt\n",
    "import seaborn as sns\n",
    "from sklearn.feature_extraction.text import TfidfTransformer\n",
    "from sklearn.feature_extraction.text import TfidfVectorizer\n",
    "\n",
    "from sklearn.feature_extraction.text import CountVectorizer\n",
    "from sklearn.metrics import confusion_matrix\n",
    "from sklearn import metrics\n",
    "from sklearn.metrics import roc_curve, auc\n",
    "from nltk.stem.porter import PorterStemmer\n",
    "\n",
    "import re\n",
    "# Tutorial about Python regular expressions: https://pymotw.com/2/re/\n",
    "import string\n",
    "from nltk.corpus import stopwords\n",
    "from nltk.stem import PorterStemmer\n",
    "from nltk.stem.wordnet import WordNetLemmatizer\n",
    "\n",
    "from gensim.models import Word2Vec\n",
    "from gensim.models import KeyedVectors\n",
    "import pickle\n",
    "\n",
    "from tqdm import tqdm\n",
    "import os\n",
    "import chart_studio.plotly as py\n",
    "\n",
    "import chart_studio.plotly as py\n",
    "\n",
    "\n",
    "from collections import Counter"
   ]
  },
  {
   "cell_type": "markdown",
   "metadata": {},
   "source": [
    "## 1. LOAD AND PROCESS DATA"
   ]
  },
  {
   "cell_type": "markdown",
   "metadata": {},
   "source": [
    "### 1.1 Reading Data"
   ]
  },
  {
   "cell_type": "code",
   "execution_count": 2,
   "metadata": {},
   "outputs": [
    {
     "data": {
      "text/plain": [
       "Index(['Unnamed: 0', 'id', 'teacher_id', 'teacher_prefix', 'school_state',\n",
       "       'project_submitted_datetime', 'project_grade_category',\n",
       "       'project_subject_categories', 'project_subject_subcategories',\n",
       "       'project_title', 'project_essay_1', 'project_essay_2',\n",
       "       'project_essay_3', 'project_essay_4', 'project_resource_summary',\n",
       "       'teacher_number_of_previously_posted_projects', 'project_is_approved'],\n",
       "      dtype='object')"
      ]
     },
     "execution_count": 2,
     "metadata": {},
     "output_type": "execute_result"
    }
   ],
   "source": [
    "data=pd.read_csv(\"train_data.csv\")\n",
    "\n",
    "resource_data=pd.read_csv(\"resources.csv\")\n",
    "data.columns"
   ]
  },
  {
   "cell_type": "code",
   "execution_count": 3,
   "metadata": {},
   "outputs": [],
   "source": [
    "price_data=resource_data.groupby('id').agg({'price':'sum', 'quantity':'sum'}).reset_index()"
   ]
  },
  {
   "cell_type": "code",
   "execution_count": 4,
   "metadata": {},
   "outputs": [],
   "source": [
    "project_data=pd.merge(data, price_data, on='id', how='left')"
   ]
  },
  {
   "cell_type": "code",
   "execution_count": 5,
   "metadata": {},
   "outputs": [
    {
     "data": {
      "text/plain": [
       "Index(['Unnamed: 0', 'id', 'teacher_id', 'teacher_prefix', 'school_state',\n",
       "       'project_submitted_datetime', 'project_grade_category',\n",
       "       'project_subject_categories', 'project_subject_subcategories',\n",
       "       'project_title', 'project_essay_1', 'project_essay_2',\n",
       "       'project_essay_3', 'project_essay_4', 'project_resource_summary',\n",
       "       'teacher_number_of_previously_posted_projects', 'project_is_approved',\n",
       "       'price', 'quantity'],\n",
       "      dtype='object')"
      ]
     },
     "execution_count": 5,
     "metadata": {},
     "output_type": "execute_result"
    }
   ],
   "source": [
    "project_data.columns"
   ]
  },
  {
   "cell_type": "markdown",
   "metadata": {},
   "source": [
    "### 1.2 process Project Essay"
   ]
  },
  {
   "cell_type": "code",
   "execution_count": 6,
   "metadata": {},
   "outputs": [
    {
     "data": {
      "text/html": [
       "<div>\n",
       "<style scoped>\n",
       "    .dataframe tbody tr th:only-of-type {\n",
       "        vertical-align: middle;\n",
       "    }\n",
       "\n",
       "    .dataframe tbody tr th {\n",
       "        vertical-align: top;\n",
       "    }\n",
       "\n",
       "    .dataframe thead th {\n",
       "        text-align: right;\n",
       "    }\n",
       "</style>\n",
       "<table border=\"1\" class=\"dataframe\">\n",
       "  <thead>\n",
       "    <tr style=\"text-align: right;\">\n",
       "      <th></th>\n",
       "      <th>Unnamed: 0</th>\n",
       "      <th>id</th>\n",
       "      <th>teacher_id</th>\n",
       "      <th>teacher_prefix</th>\n",
       "      <th>school_state</th>\n",
       "      <th>project_submitted_datetime</th>\n",
       "      <th>project_grade_category</th>\n",
       "      <th>project_subject_categories</th>\n",
       "      <th>project_subject_subcategories</th>\n",
       "      <th>project_title</th>\n",
       "      <th>project_essay_1</th>\n",
       "      <th>project_essay_2</th>\n",
       "      <th>project_essay_3</th>\n",
       "      <th>project_essay_4</th>\n",
       "      <th>project_resource_summary</th>\n",
       "      <th>teacher_number_of_previously_posted_projects</th>\n",
       "      <th>project_is_approved</th>\n",
       "      <th>price</th>\n",
       "      <th>quantity</th>\n",
       "    </tr>\n",
       "  </thead>\n",
       "  <tbody>\n",
       "    <tr>\n",
       "      <th>0</th>\n",
       "      <td>160221</td>\n",
       "      <td>p253737</td>\n",
       "      <td>c90749f5d961ff158d4b4d1e7dc665fc</td>\n",
       "      <td>Mrs.</td>\n",
       "      <td>IN</td>\n",
       "      <td>2016-12-05 13:43:57</td>\n",
       "      <td>Grades PreK-2</td>\n",
       "      <td>Literacy &amp; Language</td>\n",
       "      <td>ESL, Literacy</td>\n",
       "      <td>Educational Support for English Learners at Home</td>\n",
       "      <td>My students are English learners that are work...</td>\n",
       "      <td>\\\"The limits of your language are the limits o...</td>\n",
       "      <td>NaN</td>\n",
       "      <td>NaN</td>\n",
       "      <td>My students need opportunities to practice beg...</td>\n",
       "      <td>0</td>\n",
       "      <td>0</td>\n",
       "      <td>154.60</td>\n",
       "      <td>23</td>\n",
       "    </tr>\n",
       "    <tr>\n",
       "      <th>1</th>\n",
       "      <td>140945</td>\n",
       "      <td>p258326</td>\n",
       "      <td>897464ce9ddc600bced1151f324dd63a</td>\n",
       "      <td>Mr.</td>\n",
       "      <td>FL</td>\n",
       "      <td>2016-10-25 09:22:10</td>\n",
       "      <td>Grades 6-8</td>\n",
       "      <td>History &amp; Civics, Health &amp; Sports</td>\n",
       "      <td>Civics &amp; Government, Team Sports</td>\n",
       "      <td>Wanted: Projector for Hungry Learners</td>\n",
       "      <td>Our students arrive to our school eager to lea...</td>\n",
       "      <td>The projector we need for our school is very c...</td>\n",
       "      <td>NaN</td>\n",
       "      <td>NaN</td>\n",
       "      <td>My students need a projector to help with view...</td>\n",
       "      <td>7</td>\n",
       "      <td>1</td>\n",
       "      <td>299.00</td>\n",
       "      <td>1</td>\n",
       "    </tr>\n",
       "    <tr>\n",
       "      <th>2</th>\n",
       "      <td>21895</td>\n",
       "      <td>p182444</td>\n",
       "      <td>3465aaf82da834c0582ebd0ef8040ca0</td>\n",
       "      <td>Ms.</td>\n",
       "      <td>AZ</td>\n",
       "      <td>2016-08-31 12:03:56</td>\n",
       "      <td>Grades 6-8</td>\n",
       "      <td>Health &amp; Sports</td>\n",
       "      <td>Health &amp; Wellness, Team Sports</td>\n",
       "      <td>Soccer Equipment for AWESOME Middle School Stu...</td>\n",
       "      <td>\\r\\n\\\"True champions aren't always the ones th...</td>\n",
       "      <td>The students on the campus come to school know...</td>\n",
       "      <td>NaN</td>\n",
       "      <td>NaN</td>\n",
       "      <td>My students need shine guards, athletic socks,...</td>\n",
       "      <td>1</td>\n",
       "      <td>0</td>\n",
       "      <td>516.85</td>\n",
       "      <td>22</td>\n",
       "    </tr>\n",
       "  </tbody>\n",
       "</table>\n",
       "</div>"
      ],
      "text/plain": [
       "   Unnamed: 0       id                        teacher_id teacher_prefix  \\\n",
       "0      160221  p253737  c90749f5d961ff158d4b4d1e7dc665fc           Mrs.   \n",
       "1      140945  p258326  897464ce9ddc600bced1151f324dd63a            Mr.   \n",
       "2       21895  p182444  3465aaf82da834c0582ebd0ef8040ca0            Ms.   \n",
       "\n",
       "  school_state project_submitted_datetime project_grade_category  \\\n",
       "0           IN        2016-12-05 13:43:57          Grades PreK-2   \n",
       "1           FL        2016-10-25 09:22:10             Grades 6-8   \n",
       "2           AZ        2016-08-31 12:03:56             Grades 6-8   \n",
       "\n",
       "          project_subject_categories     project_subject_subcategories  \\\n",
       "0                Literacy & Language                     ESL, Literacy   \n",
       "1  History & Civics, Health & Sports  Civics & Government, Team Sports   \n",
       "2                    Health & Sports    Health & Wellness, Team Sports   \n",
       "\n",
       "                                       project_title  \\\n",
       "0   Educational Support for English Learners at Home   \n",
       "1              Wanted: Projector for Hungry Learners   \n",
       "2  Soccer Equipment for AWESOME Middle School Stu...   \n",
       "\n",
       "                                     project_essay_1  \\\n",
       "0  My students are English learners that are work...   \n",
       "1  Our students arrive to our school eager to lea...   \n",
       "2  \\r\\n\\\"True champions aren't always the ones th...   \n",
       "\n",
       "                                     project_essay_2 project_essay_3  \\\n",
       "0  \\\"The limits of your language are the limits o...             NaN   \n",
       "1  The projector we need for our school is very c...             NaN   \n",
       "2  The students on the campus come to school know...             NaN   \n",
       "\n",
       "  project_essay_4                           project_resource_summary  \\\n",
       "0             NaN  My students need opportunities to practice beg...   \n",
       "1             NaN  My students need a projector to help with view...   \n",
       "2             NaN  My students need shine guards, athletic socks,...   \n",
       "\n",
       "   teacher_number_of_previously_posted_projects  project_is_approved   price  \\\n",
       "0                                             0                    0  154.60   \n",
       "1                                             7                    1  299.00   \n",
       "2                                             1                    0  516.85   \n",
       "\n",
       "   quantity  \n",
       "0        23  \n",
       "1         1  \n",
       "2        22  "
      ]
     },
     "execution_count": 6,
     "metadata": {},
     "output_type": "execute_result"
    }
   ],
   "source": [
    "project_data.head(3)"
   ]
  },
  {
   "cell_type": "code",
   "execution_count": 7,
   "metadata": {},
   "outputs": [],
   "source": [
    "project_data[\"essay\"] = project_data[\"project_essay_1\"].map(str) +\\\n",
    "                project_data[\"project_essay_2\"].map(str) + \\\n",
    "                project_data[\"project_essay_3\"].map(str) + \\\n",
    "                project_data[\"project_essay_4\"].map(str)"
   ]
  },
  {
   "cell_type": "code",
   "execution_count": 8,
   "metadata": {},
   "outputs": [],
   "source": [
    "import re\n",
    "\n",
    "def decontracted(phrase):\n",
    "    # specific\n",
    "    phrase = re.sub(r\"won't\", \"will not\", phrase)\n",
    "    phrase = re.sub(r\"can\\'t\", \"can not\", phrase)\n",
    "\n",
    "    # general\n",
    "    phrase = re.sub(r\"n\\'t\", \" not\", phrase)\n",
    "    phrase = re.sub(r\"\\'re\", \" are\", phrase)\n",
    "    phrase = re.sub(r\"\\'s\", \" is\", phrase)\n",
    "    phrase = re.sub(r\"\\'d\", \" would\", phrase)\n",
    "    phrase = re.sub(r\"\\'ll\", \" will\", phrase)\n",
    "    phrase = re.sub(r\"\\'t\", \" not\", phrase)\n",
    "    phrase = re.sub(r\"\\'ve\", \" have\", phrase)\n",
    "    phrase = re.sub(r\"\\'m\", \" am\", phrase)\n",
    "    return phrase"
   ]
  },
  {
   "cell_type": "code",
   "execution_count": 9,
   "metadata": {},
   "outputs": [],
   "source": [
    "stopwords= ['i', 'me', 'my', 'myself', 'we', 'our', 'ours', 'ourselves', 'you', \"you're\", \"you've\",\\\n",
    "            \"you'll\", \"you'd\", 'your', 'yours', 'yourself', 'yourselves', 'he', 'him', 'his', 'himself', \\\n",
    "            'she', \"she's\", 'her', 'hers', 'herself', 'it', \"it's\", 'its', 'itself', 'they', 'them', 'their',\\\n",
    "            'theirs', 'themselves', 'what', 'which', 'who', 'whom', 'this', 'that', \"that'll\", 'these', 'those', \\\n",
    "            'am', 'is', 'are', 'was', 'were', 'be', 'been', 'being', 'have', 'has', 'had', 'having', 'do', 'does', \\\n",
    "            'did', 'doing', 'a', 'an', 'the', 'and', 'but', 'if', 'or', 'because', 'as', 'until', 'while', 'of', \\\n",
    "            'at', 'by', 'for', 'with', 'about', 'against', 'between', 'into', 'through', 'during', 'before', 'after',\\\n",
    "            'above', 'below', 'to', 'from', 'up', 'down', 'in', 'out', 'on', 'off', 'over', 'under', 'again', 'further',\\\n",
    "            'then', 'once', 'here', 'there', 'when', 'where', 'why', 'how', 'all', 'any', 'both', 'each', 'few', 'more',\\\n",
    "            'most', 'other', 'some', 'such', 'only', 'own', 'same', 'so', 'than', 'too', 'very', \\\n",
    "            's', 't', 'can', 'will', 'just', 'don', \"don't\", 'should', \"should've\", 'now', 'd', 'll', 'm', 'o', 're', \\\n",
    "            've', 'y', 'ain', 'aren', \"aren't\", 'couldn', \"couldn't\", 'didn', \"didn't\", 'doesn', \"doesn't\", 'hadn',\\\n",
    "            \"hadn't\", 'hasn', \"hasn't\", 'haven', \"haven't\", 'isn', \"isn't\", 'ma', 'mightn', \"mightn't\", 'mustn',\\\n",
    "            \"mustn't\", 'needn', \"needn't\", 'shan', \"shan't\", 'shouldn', \"shouldn't\", 'wasn', \"wasn't\", 'weren', \"weren't\", \\\n",
    "            'won', \"won't\", 'wouldn', \"wouldn't\"]"
   ]
  },
  {
   "cell_type": "code",
   "execution_count": 10,
   "metadata": {},
   "outputs": [
    {
     "name": "stderr",
     "output_type": "stream",
     "text": [
      "100%|██████████| 109248/109248 [00:58<00:00, 1869.44it/s]\n"
     ]
    }
   ],
   "source": [
    "from tqdm import tqdm\n",
    "preprocessed_essays = []\n",
    "# tqdm is for printing the status bar\n",
    "for sentance in tqdm(project_data['essay'].values):\n",
    "    sent = decontracted(sentance)\n",
    "    sent = sent.replace('\\\\r', ' ')\n",
    "    sent = sent.replace('\\\\\"', ' ')\n",
    "    sent = sent.replace('\\\\n', ' ')\n",
    "    sent = re.sub('[^A-Za-z0-9]+', ' ', sent)\n",
    "    # https://gist.github.com/sebleier/554280\n",
    "    sent = ' '.join(e for e in sent.split() if e not in stopwords)\n",
    "    preprocessed_essays.append(sent.lower().strip())\n",
    "project_data['cleaned_essay']=preprocessed_essays"
   ]
  },
  {
   "cell_type": "markdown",
   "metadata": {},
   "source": [
    "### 1.2 process Project Title"
   ]
  },
  {
   "cell_type": "code",
   "execution_count": 11,
   "metadata": {},
   "outputs": [
    {
     "name": "stderr",
     "output_type": "stream",
     "text": [
      "100%|██████████| 109248/109248 [00:02<00:00, 37498.59it/s]\n"
     ]
    }
   ],
   "source": [
    "# https://stackoverflow.com/a/47091490/4084039\n",
    "from tqdm import tqdm\n",
    "preprocessed_title = []\n",
    "# tqdm is for printing the status bar\n",
    "for sentance in tqdm(data['project_title'].values):\n",
    "    sent = decontracted(sentance)\n",
    "    sent = sent.replace('\\\\r', ' ')\n",
    "    sent = sent.replace('\\\\\"', ' ')\n",
    "    sent = sent.replace('\\\\n', ' ')\n",
    "    sent = re.sub('[^A-Za-z0-9]+', ' ', sent)\n",
    "    # https://gist.github.com/sebleier/554280\n",
    "    sent = ' '.join(e for e in sent.split() if e not in stopwords)\n",
    "    preprocessed_title.append(sent.lower().strip())\n",
    "project_data['cleaned_project_title']=preprocessed_title"
   ]
  },
  {
   "cell_type": "markdown",
   "metadata": {},
   "source": [
    "### 1.3 teacher_prefix"
   ]
  },
  {
   "cell_type": "code",
   "execution_count": 12,
   "metadata": {},
   "outputs": [
    {
     "data": {
      "text/plain": [
       "Mrs        57269\n",
       "Ms         38955\n",
       "Mr         10648\n",
       "Teacher     2360\n",
       "Dr            13\n",
       "nan            3\n",
       "Name: teacher_prefix, dtype: int64"
      ]
     },
     "execution_count": 12,
     "metadata": {},
     "output_type": "execute_result"
    }
   ],
   "source": [
    "temp1=data.teacher_prefix.apply(lambda x: str(x).replace('.', ''))\n",
    "project_data['teacher_prefix']=temp1\n",
    "project_data['teacher_prefix'].value_counts()\n"
   ]
  },
  {
   "cell_type": "markdown",
   "metadata": {},
   "source": [
    "### 1.4 project grade"
   ]
  },
  {
   "cell_type": "code",
   "execution_count": 13,
   "metadata": {},
   "outputs": [
    {
     "data": {
      "text/plain": [
       "Grades PreK-2    44225\n",
       "Grades 3-5       37137\n",
       "Grades 6-8       16923\n",
       "Grades 9-12      10963\n",
       "Name: project_grade_category, dtype: int64"
      ]
     },
     "execution_count": 13,
     "metadata": {},
     "output_type": "execute_result"
    }
   ],
   "source": [
    "project_data.project_grade_category.value_counts()"
   ]
  },
  {
   "cell_type": "code",
   "execution_count": 14,
   "metadata": {},
   "outputs": [],
   "source": [
    "grade_list=[]\n",
    "for i in project_data['project_grade_category'].values:\n",
    "    i=i.replace(' ','_')\n",
    "    i=i.replace('-','_')\n",
    "    grade_list.append(i.strip()) \n",
    "    \n",
    "    \n",
    "project_data['project_grade_category']=grade_list  \n",
    "       \n",
    "   "
   ]
  },
  {
   "cell_type": "code",
   "execution_count": 15,
   "metadata": {},
   "outputs": [
    {
     "data": {
      "text/plain": [
       "Grades_PreK_2    44225\n",
       "Grades_3_5       37137\n",
       "Grades_6_8       16923\n",
       "Grades_9_12      10963\n",
       "Name: project_grade_category, dtype: int64"
      ]
     },
     "execution_count": 15,
     "metadata": {},
     "output_type": "execute_result"
    }
   ],
   "source": [
    "project_data['project_grade_category'].value_counts()"
   ]
  },
  {
   "cell_type": "markdown",
   "metadata": {},
   "source": [
    "### 1.5 project_subject_categories"
   ]
  },
  {
   "cell_type": "code",
   "execution_count": 16,
   "metadata": {},
   "outputs": [],
   "source": [
    "catogories = list(project_data['project_subject_categories'].values)\n",
    "# remove special characters from list of strings python: https://stackoverflow.com/a/47301924/4084039\n",
    "\n",
    "# https://www.geeksforgeeks.org/removing-stop-words-nltk-python/\n",
    "# https://stackoverflow.com/questions/23669024/how-to-strip-a-specific-word-from-a-string\n",
    "# https://stackoverflow.com/questions/8270092/remove-all-whitespace-in-a-string-in-python\n",
    "cat_list = []\n",
    "for i in catogories:\n",
    "    temp = \"\"\n",
    "    # consider we have text like this \"Math & Science, Warmth, Care & Hunger\"\n",
    "    for j in i.split(','): # it will split it in three parts [\"Math & Science\", \"Warmth\", \"Care & Hunger\"]\n",
    "        if 'The' in j.split(): # this will split each of the catogory based on space \"Math & Science\"=> \"Math\",\"&\", \"Science\"\n",
    "            j=j.replace('The','') # if we have the words \"The\" we are going to replace it with ''(i.e removing 'The')\n",
    "        j = j.replace(' ','') # we are placeing all the ' '(space) with ''(empty) ex:\"Math & Science\"=>\"Math&Science\"\n",
    "        temp+=j.strip()+\" \" #\" abc \".strip() will return \"abc\", remove the trailing spaces\n",
    "        temp = temp.replace('&','_') # we are replacing the & value into \n",
    "    cat_list.append(temp.strip())\n",
    "    \n",
    "project_data['clean_categories'] = cat_list\n",
    "project_data.drop(['project_subject_categories'], axis=1, inplace=True)\n",
    "\n",
    "from collections import Counter\n",
    "my_counter = Counter()\n",
    "for word in project_data['clean_categories'].values:\n",
    "    my_counter.update(word.split())\n",
    "\n",
    "cat_dict = dict(my_counter)\n",
    "sorted_cat_dict = dict(sorted(cat_dict.items(), key=lambda kv: kv[1]))"
   ]
  },
  {
   "cell_type": "markdown",
   "metadata": {},
   "source": [
    "### 1.6 project_subject_subcategories"
   ]
  },
  {
   "cell_type": "code",
   "execution_count": 17,
   "metadata": {},
   "outputs": [],
   "source": [
    "sub_catogories = list(project_data['project_subject_subcategories'].values)\n",
    "# remove special characters from list of strings python: https://stackoverflow.com/a/47301924/4084039\n",
    "\n",
    "# https://www.geeksforgeeks.org/removing-stop-words-nltk-python/\n",
    "# https://stackoverflow.com/questions/23669024/how-to-strip-a-specific-word-from-a-string\n",
    "# https://stackoverflow.com/questions/8270092/remove-all-whitespace-in-a-string-in-python\n",
    "\n",
    "sub_cat_list = []\n",
    "for i in sub_catogories:\n",
    "    temp = \"\"\n",
    "    # consider we have text like this \"Math & Science, Warmth, Care & Hunger\"\n",
    "    for j in i.split(','): # it will split it in three parts [\"Math & Science\", \"Warmth\", \"Care & Hunger\"]\n",
    "        if 'The' in j.split(): # this will split each of the catogory based on space \"Math & Science\"=> \"Math\",\"&\", \"Science\"\n",
    "            j=j.replace('The','') # if we have the words \"The\" we are going to replace it with ''(i.e removing 'The')\n",
    "        j = j.replace(' ','') # we are placeing all the ' '(space) with ''(empty) ex:\"Math & Science\"=>\"Math&Science\"\n",
    "        temp +=j.strip()+\" \"#\" abc \".strip() will return \"abc\", remove the trailing spaces\n",
    "        temp = temp.replace('&','_')\n",
    "    sub_cat_list.append(temp.strip())\n",
    "\n",
    "project_data['clean_subcategories'] = sub_cat_list\n",
    "project_data.drop(['project_subject_subcategories'], axis=1, inplace=True)\n",
    "\n",
    "# count of all the words in corpus python: https://stackoverflow.com/a/22898595/4084039\n",
    "my_counter = Counter()\n",
    "for word in project_data['clean_subcategories'].values:\n",
    "    my_counter.update(word.split())\n",
    "    \n",
    "sub_cat_dict = dict(my_counter)\n",
    "sorted_sub_cat_dict = dict(sorted(sub_cat_dict.items(), key=lambda kv: kv[1]))"
   ]
  },
  {
   "cell_type": "markdown",
   "metadata": {},
   "source": [
    "### 1.7 counting words in title"
   ]
  },
  {
   "cell_type": "code",
   "execution_count": 18,
   "metadata": {},
   "outputs": [],
   "source": [
    "#https://stackoverflow.com/questions/49984905/count-number-of-words-per-row\n",
    "project_data['totalwords_title'] = project_data['cleaned_project_title'].str.split().str.len()"
   ]
  },
  {
   "cell_type": "markdown",
   "metadata": {},
   "source": [
    "### 1.8 number of words in the essay"
   ]
  },
  {
   "cell_type": "code",
   "execution_count": 19,
   "metadata": {},
   "outputs": [],
   "source": [
    "project_data['totalwords_essay'] = project_data['cleaned_essay'].str.split().str.len()"
   ]
  },
  {
   "cell_type": "markdown",
   "metadata": {},
   "source": [
    "### 1.9 sentiment score's of each of the essay"
   ]
  },
  {
   "cell_type": "code",
   "execution_count": 20,
   "metadata": {},
   "outputs": [],
   "source": [
    "from vaderSentiment.vaderSentiment import SentimentIntensityAnalyzer\n",
    "analyser = SentimentIntensityAnalyzer()\n",
    "neg=[]\n",
    "compound=[]\n",
    "pos=[]\n",
    "neu=[]\n",
    "for sent in (project_data['cleaned_essay'].values):\n",
    "    score = analyser.polarity_scores(sent)\n",
    "    neg.append(score.get('neg'))\n",
    "    neu.append(score.get('neu'))\n",
    "    pos.append(score.get('pos'))\n",
    "    compound.append(score.get('compound'))\n",
    "project_data['neg']=neg\n",
    "project_data['neu']=neu\n",
    "project_data['pos']=pos\n",
    "project_data['compound']=compound"
   ]
  },
  {
   "cell_type": "markdown",
   "metadata": {},
   "source": [
    "### 1.10 droping unnecesarry columns"
   ]
  },
  {
   "cell_type": "code",
   "execution_count": 21,
   "metadata": {
    "scrolled": true
   },
   "outputs": [],
   "source": [
    "project_data.drop(['project_title'], axis=1, inplace=True)\n",
    "project_data.drop(['project_essay_1'], axis=1, inplace=True)\n",
    "project_data.drop(['project_essay_2'], axis=1, inplace=True)\n",
    "project_data.drop(['project_essay_3'], axis=1, inplace=True)\n",
    "project_data.drop(['project_essay_4'], axis=1, inplace=True)"
   ]
  },
  {
   "cell_type": "code",
   "execution_count": 22,
   "metadata": {},
   "outputs": [
    {
     "data": {
      "text/html": [
       "<div>\n",
       "<style scoped>\n",
       "    .dataframe tbody tr th:only-of-type {\n",
       "        vertical-align: middle;\n",
       "    }\n",
       "\n",
       "    .dataframe tbody tr th {\n",
       "        vertical-align: top;\n",
       "    }\n",
       "\n",
       "    .dataframe thead th {\n",
       "        text-align: right;\n",
       "    }\n",
       "</style>\n",
       "<table border=\"1\" class=\"dataframe\">\n",
       "  <thead>\n",
       "    <tr style=\"text-align: right;\">\n",
       "      <th></th>\n",
       "      <th>Unnamed: 0</th>\n",
       "      <th>id</th>\n",
       "      <th>teacher_id</th>\n",
       "      <th>teacher_prefix</th>\n",
       "      <th>school_state</th>\n",
       "      <th>project_submitted_datetime</th>\n",
       "      <th>project_grade_category</th>\n",
       "      <th>project_resource_summary</th>\n",
       "      <th>teacher_number_of_previously_posted_projects</th>\n",
       "      <th>project_is_approved</th>\n",
       "      <th>...</th>\n",
       "      <th>cleaned_essay</th>\n",
       "      <th>cleaned_project_title</th>\n",
       "      <th>clean_categories</th>\n",
       "      <th>clean_subcategories</th>\n",
       "      <th>totalwords_title</th>\n",
       "      <th>totalwords_essay</th>\n",
       "      <th>neg</th>\n",
       "      <th>neu</th>\n",
       "      <th>pos</th>\n",
       "      <th>compound</th>\n",
       "    </tr>\n",
       "  </thead>\n",
       "  <tbody>\n",
       "    <tr>\n",
       "      <th>0</th>\n",
       "      <td>160221</td>\n",
       "      <td>p253737</td>\n",
       "      <td>c90749f5d961ff158d4b4d1e7dc665fc</td>\n",
       "      <td>Mrs</td>\n",
       "      <td>IN</td>\n",
       "      <td>2016-12-05 13:43:57</td>\n",
       "      <td>Grades_PreK_2</td>\n",
       "      <td>My students need opportunities to practice beg...</td>\n",
       "      <td>0</td>\n",
       "      <td>0</td>\n",
       "      <td>...</td>\n",
       "      <td>my students english learners working english s...</td>\n",
       "      <td>educational support english learners home</td>\n",
       "      <td>Literacy_Language</td>\n",
       "      <td>ESL Literacy</td>\n",
       "      <td>5</td>\n",
       "      <td>161</td>\n",
       "      <td>0.012</td>\n",
       "      <td>0.845</td>\n",
       "      <td>0.143</td>\n",
       "      <td>0.9694</td>\n",
       "    </tr>\n",
       "    <tr>\n",
       "      <th>1</th>\n",
       "      <td>140945</td>\n",
       "      <td>p258326</td>\n",
       "      <td>897464ce9ddc600bced1151f324dd63a</td>\n",
       "      <td>Mr</td>\n",
       "      <td>FL</td>\n",
       "      <td>2016-10-25 09:22:10</td>\n",
       "      <td>Grades_6_8</td>\n",
       "      <td>My students need a projector to help with view...</td>\n",
       "      <td>7</td>\n",
       "      <td>1</td>\n",
       "      <td>...</td>\n",
       "      <td>our students arrive school eager learn they po...</td>\n",
       "      <td>wanted projector hungry learners</td>\n",
       "      <td>History_Civics Health_Sports</td>\n",
       "      <td>Civics_Government TeamSports</td>\n",
       "      <td>4</td>\n",
       "      <td>109</td>\n",
       "      <td>0.048</td>\n",
       "      <td>0.668</td>\n",
       "      <td>0.284</td>\n",
       "      <td>0.9860</td>\n",
       "    </tr>\n",
       "    <tr>\n",
       "      <th>2</th>\n",
       "      <td>21895</td>\n",
       "      <td>p182444</td>\n",
       "      <td>3465aaf82da834c0582ebd0ef8040ca0</td>\n",
       "      <td>Ms</td>\n",
       "      <td>AZ</td>\n",
       "      <td>2016-08-31 12:03:56</td>\n",
       "      <td>Grades_6_8</td>\n",
       "      <td>My students need shine guards, athletic socks,...</td>\n",
       "      <td>1</td>\n",
       "      <td>0</td>\n",
       "      <td>...</td>\n",
       "      <td>true champions not always ones win guts by mia...</td>\n",
       "      <td>soccer equipment awesome middle school students</td>\n",
       "      <td>Health_Sports</td>\n",
       "      <td>Health_Wellness TeamSports</td>\n",
       "      <td>6</td>\n",
       "      <td>202</td>\n",
       "      <td>0.076</td>\n",
       "      <td>0.656</td>\n",
       "      <td>0.268</td>\n",
       "      <td>0.9939</td>\n",
       "    </tr>\n",
       "  </tbody>\n",
       "</table>\n",
       "<p>3 rows × 23 columns</p>\n",
       "</div>"
      ],
      "text/plain": [
       "   Unnamed: 0       id                        teacher_id teacher_prefix  \\\n",
       "0      160221  p253737  c90749f5d961ff158d4b4d1e7dc665fc            Mrs   \n",
       "1      140945  p258326  897464ce9ddc600bced1151f324dd63a             Mr   \n",
       "2       21895  p182444  3465aaf82da834c0582ebd0ef8040ca0             Ms   \n",
       "\n",
       "  school_state project_submitted_datetime project_grade_category  \\\n",
       "0           IN        2016-12-05 13:43:57          Grades_PreK_2   \n",
       "1           FL        2016-10-25 09:22:10             Grades_6_8   \n",
       "2           AZ        2016-08-31 12:03:56             Grades_6_8   \n",
       "\n",
       "                            project_resource_summary  \\\n",
       "0  My students need opportunities to practice beg...   \n",
       "1  My students need a projector to help with view...   \n",
       "2  My students need shine guards, athletic socks,...   \n",
       "\n",
       "   teacher_number_of_previously_posted_projects  project_is_approved  ...  \\\n",
       "0                                             0                    0  ...   \n",
       "1                                             7                    1  ...   \n",
       "2                                             1                    0  ...   \n",
       "\n",
       "                                       cleaned_essay  \\\n",
       "0  my students english learners working english s...   \n",
       "1  our students arrive school eager learn they po...   \n",
       "2  true champions not always ones win guts by mia...   \n",
       "\n",
       "                             cleaned_project_title  \\\n",
       "0        educational support english learners home   \n",
       "1                 wanted projector hungry learners   \n",
       "2  soccer equipment awesome middle school students   \n",
       "\n",
       "               clean_categories           clean_subcategories  \\\n",
       "0             Literacy_Language                  ESL Literacy   \n",
       "1  History_Civics Health_Sports  Civics_Government TeamSports   \n",
       "2                 Health_Sports    Health_Wellness TeamSports   \n",
       "\n",
       "  totalwords_title totalwords_essay    neg    neu    pos  compound  \n",
       "0                5              161  0.012  0.845  0.143    0.9694  \n",
       "1                4              109  0.048  0.668  0.284    0.9860  \n",
       "2                6              202  0.076  0.656  0.268    0.9939  \n",
       "\n",
       "[3 rows x 23 columns]"
      ]
     },
     "execution_count": 22,
     "metadata": {},
     "output_type": "execute_result"
    }
   ],
   "source": [
    "project_data.head(3)"
   ]
  },
  {
   "cell_type": "markdown",
   "metadata": {},
   "source": [
    "### 1.11 Making dependant(label) and independant variables"
   ]
  },
  {
   "cell_type": "code",
   "execution_count": 23,
   "metadata": {},
   "outputs": [
    {
     "data": {
      "text/html": [
       "<div>\n",
       "<style scoped>\n",
       "    .dataframe tbody tr th:only-of-type {\n",
       "        vertical-align: middle;\n",
       "    }\n",
       "\n",
       "    .dataframe tbody tr th {\n",
       "        vertical-align: top;\n",
       "    }\n",
       "\n",
       "    .dataframe thead th {\n",
       "        text-align: right;\n",
       "    }\n",
       "</style>\n",
       "<table border=\"1\" class=\"dataframe\">\n",
       "  <thead>\n",
       "    <tr style=\"text-align: right;\">\n",
       "      <th></th>\n",
       "      <th>Unnamed: 0</th>\n",
       "      <th>id</th>\n",
       "      <th>teacher_id</th>\n",
       "      <th>teacher_prefix</th>\n",
       "      <th>school_state</th>\n",
       "      <th>project_submitted_datetime</th>\n",
       "      <th>project_grade_category</th>\n",
       "      <th>project_resource_summary</th>\n",
       "      <th>teacher_number_of_previously_posted_projects</th>\n",
       "      <th>price</th>\n",
       "      <th>...</th>\n",
       "      <th>cleaned_essay</th>\n",
       "      <th>cleaned_project_title</th>\n",
       "      <th>clean_categories</th>\n",
       "      <th>clean_subcategories</th>\n",
       "      <th>totalwords_title</th>\n",
       "      <th>totalwords_essay</th>\n",
       "      <th>neg</th>\n",
       "      <th>neu</th>\n",
       "      <th>pos</th>\n",
       "      <th>compound</th>\n",
       "    </tr>\n",
       "  </thead>\n",
       "  <tbody>\n",
       "    <tr>\n",
       "      <th>0</th>\n",
       "      <td>160221</td>\n",
       "      <td>p253737</td>\n",
       "      <td>c90749f5d961ff158d4b4d1e7dc665fc</td>\n",
       "      <td>Mrs</td>\n",
       "      <td>IN</td>\n",
       "      <td>2016-12-05 13:43:57</td>\n",
       "      <td>Grades_PreK_2</td>\n",
       "      <td>My students need opportunities to practice beg...</td>\n",
       "      <td>0</td>\n",
       "      <td>154.60</td>\n",
       "      <td>...</td>\n",
       "      <td>my students english learners working english s...</td>\n",
       "      <td>educational support english learners home</td>\n",
       "      <td>Literacy_Language</td>\n",
       "      <td>ESL Literacy</td>\n",
       "      <td>5</td>\n",
       "      <td>161</td>\n",
       "      <td>0.012</td>\n",
       "      <td>0.845</td>\n",
       "      <td>0.143</td>\n",
       "      <td>0.9694</td>\n",
       "    </tr>\n",
       "    <tr>\n",
       "      <th>1</th>\n",
       "      <td>140945</td>\n",
       "      <td>p258326</td>\n",
       "      <td>897464ce9ddc600bced1151f324dd63a</td>\n",
       "      <td>Mr</td>\n",
       "      <td>FL</td>\n",
       "      <td>2016-10-25 09:22:10</td>\n",
       "      <td>Grades_6_8</td>\n",
       "      <td>My students need a projector to help with view...</td>\n",
       "      <td>7</td>\n",
       "      <td>299.00</td>\n",
       "      <td>...</td>\n",
       "      <td>our students arrive school eager learn they po...</td>\n",
       "      <td>wanted projector hungry learners</td>\n",
       "      <td>History_Civics Health_Sports</td>\n",
       "      <td>Civics_Government TeamSports</td>\n",
       "      <td>4</td>\n",
       "      <td>109</td>\n",
       "      <td>0.048</td>\n",
       "      <td>0.668</td>\n",
       "      <td>0.284</td>\n",
       "      <td>0.9860</td>\n",
       "    </tr>\n",
       "    <tr>\n",
       "      <th>2</th>\n",
       "      <td>21895</td>\n",
       "      <td>p182444</td>\n",
       "      <td>3465aaf82da834c0582ebd0ef8040ca0</td>\n",
       "      <td>Ms</td>\n",
       "      <td>AZ</td>\n",
       "      <td>2016-08-31 12:03:56</td>\n",
       "      <td>Grades_6_8</td>\n",
       "      <td>My students need shine guards, athletic socks,...</td>\n",
       "      <td>1</td>\n",
       "      <td>516.85</td>\n",
       "      <td>...</td>\n",
       "      <td>true champions not always ones win guts by mia...</td>\n",
       "      <td>soccer equipment awesome middle school students</td>\n",
       "      <td>Health_Sports</td>\n",
       "      <td>Health_Wellness TeamSports</td>\n",
       "      <td>6</td>\n",
       "      <td>202</td>\n",
       "      <td>0.076</td>\n",
       "      <td>0.656</td>\n",
       "      <td>0.268</td>\n",
       "      <td>0.9939</td>\n",
       "    </tr>\n",
       "  </tbody>\n",
       "</table>\n",
       "<p>3 rows × 22 columns</p>\n",
       "</div>"
      ],
      "text/plain": [
       "   Unnamed: 0       id                        teacher_id teacher_prefix  \\\n",
       "0      160221  p253737  c90749f5d961ff158d4b4d1e7dc665fc            Mrs   \n",
       "1      140945  p258326  897464ce9ddc600bced1151f324dd63a             Mr   \n",
       "2       21895  p182444  3465aaf82da834c0582ebd0ef8040ca0             Ms   \n",
       "\n",
       "  school_state project_submitted_datetime project_grade_category  \\\n",
       "0           IN        2016-12-05 13:43:57          Grades_PreK_2   \n",
       "1           FL        2016-10-25 09:22:10             Grades_6_8   \n",
       "2           AZ        2016-08-31 12:03:56             Grades_6_8   \n",
       "\n",
       "                            project_resource_summary  \\\n",
       "0  My students need opportunities to practice beg...   \n",
       "1  My students need a projector to help with view...   \n",
       "2  My students need shine guards, athletic socks,...   \n",
       "\n",
       "   teacher_number_of_previously_posted_projects   price  ...  \\\n",
       "0                                             0  154.60  ...   \n",
       "1                                             7  299.00  ...   \n",
       "2                                             1  516.85  ...   \n",
       "\n",
       "                                       cleaned_essay  \\\n",
       "0  my students english learners working english s...   \n",
       "1  our students arrive school eager learn they po...   \n",
       "2  true champions not always ones win guts by mia...   \n",
       "\n",
       "                             cleaned_project_title  \\\n",
       "0        educational support english learners home   \n",
       "1                 wanted projector hungry learners   \n",
       "2  soccer equipment awesome middle school students   \n",
       "\n",
       "               clean_categories           clean_subcategories  \\\n",
       "0             Literacy_Language                  ESL Literacy   \n",
       "1  History_Civics Health_Sports  Civics_Government TeamSports   \n",
       "2                 Health_Sports    Health_Wellness TeamSports   \n",
       "\n",
       "  totalwords_title totalwords_essay    neg    neu    pos  compound  \n",
       "0                5              161  0.012  0.845  0.143    0.9694  \n",
       "1                4              109  0.048  0.668  0.284    0.9860  \n",
       "2                6              202  0.076  0.656  0.268    0.9939  \n",
       "\n",
       "[3 rows x 22 columns]"
      ]
     },
     "execution_count": 23,
     "metadata": {},
     "output_type": "execute_result"
    }
   ],
   "source": [
    "y = project_data['project_is_approved'].values\n",
    "project_data.drop(['project_is_approved'], axis=1, inplace=True)\n",
    "project_data.head(1)\n",
    "x=project_data\n",
    "x.head(3)"
   ]
  },
  {
   "cell_type": "markdown",
   "metadata": {},
   "source": [
    "### 1.12 Traing and Test split"
   ]
  },
  {
   "cell_type": "code",
   "execution_count": 24,
   "metadata": {},
   "outputs": [],
   "source": [
    "from sklearn.model_selection import train_test_split\n",
    "X_train, X_test, Y_train, Y_test = train_test_split(x, y, test_size=0.33, stratify=y,random_state=42)\n",
    "X_train, X_cv, Y_train, Y_cv = train_test_split(X_train, Y_train, test_size=0.33, stratify=Y_train,random_state=42)\n"
   ]
  },
  {
   "cell_type": "markdown",
   "metadata": {},
   "source": [
    "## 2.Text Vectorization and encoding catagories,normalization numerical features"
   ]
  },
  {
   "cell_type": "markdown",
   "metadata": {},
   "source": [
    "### 2.1 converting the essay to vectors using BOW"
   ]
  },
  {
   "cell_type": "code",
   "execution_count": 25,
   "metadata": {},
   "outputs": [
    {
     "name": "stdout",
     "output_type": "stream",
     "text": [
      "(49041, 22) (49041,)\n",
      "(24155, 22) (24155,)\n",
      "(36052, 22) (36052,)\n",
      "====================================================================================================\n",
      "After vectorizations\n",
      "(49041, 5000) (49041,)\n",
      "(24155, 5000) (24155,)\n",
      "(36052, 5000) (36052,)\n",
      "====================================================================================================\n"
     ]
    }
   ],
   "source": [
    "print(X_train.shape, Y_train.shape)\n",
    "print(X_cv.shape, Y_cv.shape)\n",
    "print(X_test.shape, Y_test.shape)\n",
    "\n",
    "print(\"=\"*100)\n",
    "\n",
    "from sklearn.feature_extraction.text import CountVectorizer\n",
    "vectorizer = CountVectorizer(min_df=10,ngram_range=(1,2), max_features=5000)\n",
    "vectorizer.fit(X_train['cleaned_essay'].values) # fit has to happen only on train data\n",
    "\n",
    "# we use the fitted CountVectorizer to convert the text to vector\n",
    "X_train_essay_bow = vectorizer.transform(X_train['cleaned_essay'].values)\n",
    "X_cv_essay_bow = vectorizer.transform(X_cv['cleaned_essay'].values)\n",
    "X_test_essay_bow = vectorizer.transform(X_test['cleaned_essay'].values)\n",
    "\n",
    "print(\"After vectorizations\")\n",
    "print(X_train_essay_bow.shape, Y_train.shape)\n",
    "print(X_cv_essay_bow.shape, Y_cv.shape)\n",
    "print(X_test_essay_bow.shape, Y_test.shape)\n",
    "print(\"=\"*100)\n"
   ]
  },
  {
   "cell_type": "markdown",
   "metadata": {},
   "source": [
    "### 2.2 converting the title to vectors using BOW"
   ]
  },
  {
   "cell_type": "code",
   "execution_count": 26,
   "metadata": {},
   "outputs": [
    {
     "name": "stdout",
     "output_type": "stream",
     "text": [
      "After vectorizations\n",
      "(49041, 3750) (49041,)\n",
      "(24155, 3750) (24155,)\n",
      "(36052, 3750) (36052,)\n",
      "====================================================================================================\n"
     ]
    }
   ],
   "source": [
    "vectorizer = CountVectorizer(min_df=10,ngram_range=(1,2), max_features=5000)\n",
    "vectorizer.fit(X_train['cleaned_project_title'].values) # fit has to happen only on train data\n",
    "\n",
    "# we use the fitted CountVectorizer to convert the text to vector\n",
    "X_train_title_bow = vectorizer.transform(X_train['cleaned_project_title'].values)\n",
    "X_cv_title_bow = vectorizer.transform(X_cv['cleaned_project_title'].values)\n",
    "X_test_title_bow = vectorizer.transform(X_test['cleaned_project_title'].values)\n",
    "\n",
    "print(\"After vectorizations\")\n",
    "print(X_train_title_bow.shape, Y_train.shape)\n",
    "print(X_cv_title_bow.shape, Y_cv.shape)\n",
    "print(X_test_title_bow.shape, Y_test.shape)\n",
    "print(\"=\"*100)\n"
   ]
  },
  {
   "cell_type": "markdown",
   "metadata": {},
   "source": [
    "### 2.3 converting the essay to vectors using TFIDF\n",
    "\n"
   ]
  },
  {
   "cell_type": "code",
   "execution_count": 27,
   "metadata": {},
   "outputs": [
    {
     "name": "stdout",
     "output_type": "stream",
     "text": [
      "After vectorizations\n",
      "(49041, 5000) (49041,)\n",
      "(24155, 5000) (24155,)\n",
      "(36052, 5000) (36052,)\n",
      "====================================================================================================\n"
     ]
    }
   ],
   "source": [
    "from sklearn.feature_extraction.text import TfidfVectorizer\n",
    "vectorizer = TfidfVectorizer(min_df=10,ngram_range=(1,2), max_features=5000)\n",
    "vectorizer.fit(X_train['cleaned_essay'].values) # fit has to happen only on train data\n",
    "\n",
    "# we use the fitted CountVectorizer to convert the text to vector\n",
    "X_train_essay_tfidf = vectorizer.transform(X_train['cleaned_essay'].values)\n",
    "X_cv_essay_tfidf = vectorizer.transform(X_cv['cleaned_essay'].values)\n",
    "X_test_essay_tfidf = vectorizer.transform(X_test['cleaned_essay'].values)\n",
    "\n",
    "print(\"After vectorizations\")\n",
    "print(X_train_essay_tfidf.shape, Y_train.shape)\n",
    "print(X_cv_essay_tfidf.shape, Y_cv.shape)\n",
    "print(X_test_essay_tfidf.shape, Y_test.shape)\n",
    "print(\"=\"*100)\n"
   ]
  },
  {
   "cell_type": "markdown",
   "metadata": {},
   "source": [
    "### 2.4 converting the title to vectors using TFIDF"
   ]
  },
  {
   "cell_type": "code",
   "execution_count": 28,
   "metadata": {},
   "outputs": [
    {
     "name": "stdout",
     "output_type": "stream",
     "text": [
      "After vectorizations\n",
      "(49041, 2080) (49041,)\n",
      "(24155, 2080) (24155,)\n",
      "(36052, 2080) (36052,)\n",
      "====================================================================================================\n"
     ]
    }
   ],
   "source": [
    "vectorizer = TfidfVectorizer(min_df=10)\n",
    "vectorizer.fit(X_train['cleaned_project_title'].values) # fit has to happen only on train data\n",
    "\n",
    "# we use the fitted CountVectorizer to convert the text to vector\n",
    "X_train_title_tfidf = vectorizer.transform(X_train['cleaned_project_title'].values)\n",
    "X_cv_title_tfidf = vectorizer.transform(X_cv['cleaned_project_title'].values)\n",
    "X_test_title_tfidf = vectorizer.transform(X_test['cleaned_project_title'].values)\n",
    "\n",
    "print(\"After vectorizations\")\n",
    "print(X_train_title_tfidf.shape, Y_train.shape)\n",
    "print(X_cv_title_tfidf.shape, Y_cv.shape)\n",
    "print(X_test_title_tfidf.shape, Y_test.shape)\n",
    "print(\"=\"*100)"
   ]
  },
  {
   "cell_type": "markdown",
   "metadata": {},
   "source": [
    "### 2.5 load glove model for AvgW2V"
   ]
  },
  {
   "cell_type": "markdown",
   "metadata": {},
   "source": [
    "#### load glove model"
   ]
  },
  {
   "cell_type": "code",
   "execution_count": 29,
   "metadata": {},
   "outputs": [
    {
     "name": "stderr",
     "output_type": "stream",
     "text": [
      "758it [00:00, 7578.38it/s]"
     ]
    },
    {
     "name": "stdout",
     "output_type": "stream",
     "text": [
      "Loading Glove Model\n"
     ]
    },
    {
     "name": "stderr",
     "output_type": "stream",
     "text": [
      "1917495it [03:53, 8222.00it/s]"
     ]
    },
    {
     "name": "stdout",
     "output_type": "stream",
     "text": [
      "Done. 1917495  words loaded!\n"
     ]
    },
    {
     "name": "stderr",
     "output_type": "stream",
     "text": [
      "\n"
     ]
    },
    {
     "data": {
      "text/plain": [
       "'Output:\\n    \\nLoading Glove Model\\n1917495it [06:32, 4879.69it/s]\\nDone. 1917495  words loaded!\\n'"
      ]
     },
     "execution_count": 29,
     "metadata": {},
     "output_type": "execute_result"
    }
   ],
   "source": [
    "# Reading glove vectors in python: https://stackoverflow.com/a/38230349/4084039\n",
    "def loadGloveModel(gloveFile):\n",
    "    print (\"Loading Glove Model\")\n",
    "    f = open(gloveFile,'r', encoding=\"utf8\")\n",
    "    model = {}\n",
    "    for line in tqdm(f):\n",
    "        splitLine = line.split()\n",
    "        word = splitLine[0]\n",
    "        embedding = np.array([float(val) for val in splitLine[1:]])\n",
    "        model[word] = embedding\n",
    "    print (\"Done.\",len(model),\" words loaded!\")\n",
    "    return model\n",
    "model = loadGloveModel('glove.42B.300d.txt')\n",
    "\n",
    "# ============================\n",
    "'''Output:\n",
    "    \n",
    "Loading Glove Model\n",
    "1917495it [06:32, 4879.69it/s]\n",
    "Done. 1917495  words loaded!\n",
    "'''\n",
    "# ============================"
   ]
  },
  {
   "cell_type": "code",
   "execution_count": 30,
   "metadata": {},
   "outputs": [
    {
     "name": "stdout",
     "output_type": "stream",
     "text": [
      "all the words in the coupus 7628532\n",
      "the unique words in the coupus 42937\n",
      "The number of words that are present in both glove vectors and our coupus 39195 ( 91.285 %)\n",
      "word 2 vec length 39195\n"
     ]
    }
   ],
   "source": [
    "\n",
    "words = []\n",
    "for i in X_train['cleaned_essay'].values:\n",
    "    words.extend(i.split(' '))\n",
    "\n",
    "for i in X_train['cleaned_project_title'].values:\n",
    "    words.extend(i.split(' '))\n",
    "print(\"all the words in the coupus\", len(words))\n",
    "words = set(words)\n",
    "print(\"the unique words in the coupus\", len(words))\n",
    "\n",
    "inter_words = set(model.keys()).intersection(words)\n",
    "print(\"The number of words that are present in both glove vectors and our coupus\", \\\n",
    "      len(inter_words),\"(\",np.round(len(inter_words)/len(words)*100,3),\"%)\")\n",
    "\n",
    "words_courpus = {}\n",
    "words_glove = set(model.keys())\n",
    "for i in words:\n",
    "    if i in words_glove:\n",
    "        words_courpus[i] = model[i]\n",
    "print(\"word 2 vec length\", len(words_courpus))\n",
    "\n",
    "\n",
    "# stronging variables into pickle files python: http://www.jessicayung.com/how-to-use-pickle-to-save-and-load-variables-in-python/\n",
    "\n",
    "import pickle\n",
    "with open('glove_vectors', 'wb') as f:\n",
    "    pickle.dump(words_courpus, f)"
   ]
  },
  {
   "cell_type": "code",
   "execution_count": 31,
   "metadata": {},
   "outputs": [],
   "source": [
    "\n",
    "# stronging variables into pickle files python: http://www.jessicayung.com/how-to-use-pickle-to-save-and-load-variables-in-python/\n",
    "# make sure you have the glove_vectors file\n",
    "with open('glove_vectors', 'rb') as f:\n",
    "    model = pickle.load(f)\n",
    "    glove_words =  set(model.keys())"
   ]
  },
  {
   "cell_type": "markdown",
   "metadata": {},
   "source": [
    "### 2.6 Avg w2v on essay using glove model"
   ]
  },
  {
   "cell_type": "code",
   "execution_count": 32,
   "metadata": {},
   "outputs": [
    {
     "name": "stderr",
     "output_type": "stream",
     "text": [
      "100%|██████████| 49041/49041 [00:17<00:00, 2811.66it/s]"
     ]
    },
    {
     "name": "stdout",
     "output_type": "stream",
     "text": [
      "49041\n",
      "300\n"
     ]
    },
    {
     "name": "stderr",
     "output_type": "stream",
     "text": [
      "\n"
     ]
    }
   ],
   "source": [
    "Text_avg_w2v_train_essay= []; # the avg-w2v for each sentence/review is stored in this list\n",
    "for sentence in tqdm(X_train['cleaned_essay'].values): # for each review/sentence\n",
    "    vector = np.zeros(300) # as word vectors are of zero length\n",
    "    cnt_words =0; # num of words with a valid vector in the sentence/review\n",
    "    for word in sentence.split(): # for each word in a review/sentence\n",
    "        if word in glove_words:\n",
    "            vector += model[word]\n",
    "            cnt_words += 1\n",
    "    if cnt_words != 0:\n",
    "        vector /= cnt_words\n",
    "    Text_avg_w2v_train_essay.append(vector)\n",
    "\n",
    "print(len(Text_avg_w2v_train_essay))\n",
    "print(len(Text_avg_w2v_train_essay[0]))"
   ]
  },
  {
   "cell_type": "code",
   "execution_count": 33,
   "metadata": {},
   "outputs": [
    {
     "name": "stderr",
     "output_type": "stream",
     "text": [
      "100%|██████████| 24155/24155 [00:08<00:00, 2931.42it/s]"
     ]
    },
    {
     "name": "stdout",
     "output_type": "stream",
     "text": [
      "24155\n",
      "300\n"
     ]
    },
    {
     "name": "stderr",
     "output_type": "stream",
     "text": [
      "\n"
     ]
    }
   ],
   "source": [
    "Text_avg_w2v_cv_essay= []; # the avg-w2v for each sentence/review is stored in this list\n",
    "for sentence in tqdm(X_cv['cleaned_essay'].values): # for each review/sentence\n",
    "    vector = np.zeros(300) # as word vectors are of zero length\n",
    "    cnt_words =0; # num of words with a valid vector in the sentence/review\n",
    "    for word in sentence.split(): # for each word in a review/sentence\n",
    "        if word in glove_words:\n",
    "            vector += model[word]\n",
    "            cnt_words += 1\n",
    "    if cnt_words != 0:\n",
    "        vector /= cnt_words\n",
    "    Text_avg_w2v_cv_essay.append(vector)\n",
    "\n",
    "print(len(Text_avg_w2v_cv_essay))\n",
    "print(len(Text_avg_w2v_cv_essay[0]))"
   ]
  },
  {
   "cell_type": "code",
   "execution_count": 34,
   "metadata": {},
   "outputs": [
    {
     "name": "stderr",
     "output_type": "stream",
     "text": [
      "100%|██████████| 36052/36052 [00:12<00:00, 2929.60it/s]"
     ]
    },
    {
     "name": "stdout",
     "output_type": "stream",
     "text": [
      "36052\n",
      "300\n"
     ]
    },
    {
     "name": "stderr",
     "output_type": "stream",
     "text": [
      "\n"
     ]
    }
   ],
   "source": [
    "Text_avg_w2v_test_essay= []; # the avg-w2v for each sentence/review is stored in this list\n",
    "for sentence in tqdm(X_test['cleaned_essay'].values): # for each review/sentence\n",
    "    vector = np.zeros(300) # as word vectors are of zero length\n",
    "    cnt_words =0; # num of words with a valid vector in the sentence/review\n",
    "    for word in sentence.split(): # for each word in a review/sentence\n",
    "        if word in glove_words:\n",
    "            vector += model[word]\n",
    "            cnt_words += 1\n",
    "    if cnt_words != 0:\n",
    "        vector /= cnt_words\n",
    "    Text_avg_w2v_test_essay.append(vector)\n",
    "\n",
    "print(len(Text_avg_w2v_test_essay))\n",
    "print(len(Text_avg_w2v_test_essay[0]))"
   ]
  },
  {
   "cell_type": "markdown",
   "metadata": {},
   "source": [
    "### 2.7 Avg w2v on title using glove model"
   ]
  },
  {
   "cell_type": "code",
   "execution_count": 35,
   "metadata": {},
   "outputs": [
    {
     "name": "stderr",
     "output_type": "stream",
     "text": [
      "100%|██████████| 49041/49041 [00:00<00:00, 62156.79it/s]"
     ]
    },
    {
     "name": "stdout",
     "output_type": "stream",
     "text": [
      "49041\n",
      "300\n"
     ]
    },
    {
     "name": "stderr",
     "output_type": "stream",
     "text": [
      "\n"
     ]
    }
   ],
   "source": [
    "Text_avg_w2v_train_title= []; # the avg-w2v for each sentence/review is stored in this list\n",
    "for sentence in tqdm(X_train['cleaned_project_title'].values): # for each review/sentence\n",
    "    vector = np.zeros(300) # as word vectors are of zero length\n",
    "    cnt_words =0; # num of words with a valid vector in the sentence/review\n",
    "    for word in sentence.split(): # for each word in a review/sentence\n",
    "        if word in glove_words:\n",
    "            vector += model[word]\n",
    "            cnt_words += 1\n",
    "    if cnt_words != 0:\n",
    "        vector /= cnt_words\n",
    "    Text_avg_w2v_train_title.append(vector)\n",
    "\n",
    "print(len(Text_avg_w2v_train_title))\n",
    "print(len(Text_avg_w2v_train_title[0]))"
   ]
  },
  {
   "cell_type": "code",
   "execution_count": 36,
   "metadata": {},
   "outputs": [
    {
     "name": "stderr",
     "output_type": "stream",
     "text": [
      "100%|██████████| 24155/24155 [00:00<00:00, 58050.58it/s]"
     ]
    },
    {
     "name": "stdout",
     "output_type": "stream",
     "text": [
      "24155\n",
      "300\n"
     ]
    },
    {
     "name": "stderr",
     "output_type": "stream",
     "text": [
      "\n"
     ]
    }
   ],
   "source": [
    "Text_avg_w2v_cv_title= []; # the avg-w2v for each sentence/review is stored in this list\n",
    "for sentence in tqdm(X_cv['cleaned_project_title'].values): # for each review/sentence\n",
    "    vector = np.zeros(300) # as word vectors are of zero length\n",
    "    cnt_words =0; # num of words with a valid vector in the sentence/review\n",
    "    for word in sentence.split(): # for each word in a review/sentence\n",
    "        if word in glove_words:\n",
    "            vector += model[word]\n",
    "            cnt_words += 1\n",
    "    if cnt_words != 0:\n",
    "        vector /= cnt_words\n",
    "    Text_avg_w2v_cv_title.append(vector)\n",
    "\n",
    "print(len(Text_avg_w2v_cv_title))\n",
    "print(len(Text_avg_w2v_cv_title[0]))"
   ]
  },
  {
   "cell_type": "code",
   "execution_count": 37,
   "metadata": {},
   "outputs": [
    {
     "name": "stderr",
     "output_type": "stream",
     "text": [
      "100%|██████████| 36052/36052 [00:00<00:00, 57486.28it/s]"
     ]
    },
    {
     "name": "stdout",
     "output_type": "stream",
     "text": [
      "36052\n",
      "300\n"
     ]
    },
    {
     "name": "stderr",
     "output_type": "stream",
     "text": [
      "\n"
     ]
    }
   ],
   "source": [
    "Text_avg_w2v_test_title= []; # the avg-w2v for each sentence/review is stored in this list\n",
    "for sentence in tqdm(X_test['cleaned_project_title'].values): # for each review/sentence\n",
    "    vector = np.zeros(300) # as word vectors are of zero length\n",
    "    cnt_words =0; # num of words with a valid vector in the sentence/review\n",
    "    for word in sentence.split(): # for each word in a review/sentence\n",
    "        if word in glove_words:\n",
    "            vector += model[word]\n",
    "            cnt_words += 1\n",
    "    if cnt_words != 0:\n",
    "        vector /= cnt_words\n",
    "    Text_avg_w2v_test_title.append(vector)\n",
    "\n",
    "print(len(Text_avg_w2v_test_title))\n",
    "print(len(Text_avg_w2v_test_title[0]))"
   ]
  },
  {
   "cell_type": "markdown",
   "metadata": {},
   "source": [
    "### 2.8 Using Pretrained Models: TFIDF weighted W2V on essay"
   ]
  },
  {
   "cell_type": "code",
   "execution_count": 38,
   "metadata": {},
   "outputs": [],
   "source": [
    "# S = [\"abc def pqr\", \"def def def abc\", \"pqr pqr def\"]\n",
    "tfidf_model = TfidfVectorizer()\n",
    "tfidf_model.fit(X_train['cleaned_essay'].values)\n",
    "# we are converting a dictionary with word as a key, and the idf as a value\n",
    "dictionary = dict(zip(tfidf_model.get_feature_names(), list(tfidf_model.idf_)))\n",
    "tfidf_words = set(tfidf_model.get_feature_names())"
   ]
  },
  {
   "cell_type": "code",
   "execution_count": 39,
   "metadata": {},
   "outputs": [
    {
     "name": "stderr",
     "output_type": "stream",
     "text": [
      "100%|██████████| 49041/49041 [02:09<00:00, 378.42it/s]"
     ]
    },
    {
     "name": "stdout",
     "output_type": "stream",
     "text": [
      "49041\n",
      "300\n"
     ]
    },
    {
     "name": "stderr",
     "output_type": "stream",
     "text": [
      "\n"
     ]
    }
   ],
   "source": [
    "\n",
    "Text_tfidf_w2v_train_essay= []; # the avg-w2v for each sentence/review is stored in this list\n",
    "for sentence in tqdm(X_train['cleaned_essay'].values): # for each review/sentence\n",
    "    vector = np.zeros(300) # as word vectors are of zero length\n",
    "    tf_idf_weight =0; # num of words with a valid vector in the sentence/review\n",
    "    for word in sentence.split(): # for each word in a review/sentence\n",
    "        if (word in glove_words) and (word in tfidf_words):\n",
    "            vec = model[word] # getting the vector for each word\n",
    "            # here we are multiplying idf value(dictionary[word]) and the tf value((sentence.count(word)/len(sentence.split())))\n",
    "            tf_idf = dictionary[word]*(sentence.count(word)/len(sentence.split())) # getting the tfidf value for each word\n",
    "            vector += (vec * tf_idf) # calculating tfidf weighted w2v\n",
    "            tf_idf_weight += tf_idf\n",
    "    if tf_idf_weight != 0:\n",
    "        vector /= tf_idf_weight\n",
    "    Text_tfidf_w2v_train_essay.append(vector)\n",
    "\n",
    "print(len(Text_tfidf_w2v_train_essay))\n",
    "print(len(Text_tfidf_w2v_train_essay[0]))"
   ]
  },
  {
   "cell_type": "code",
   "execution_count": 40,
   "metadata": {},
   "outputs": [
    {
     "name": "stderr",
     "output_type": "stream",
     "text": [
      "100%|██████████| 24155/24155 [01:01<00:00, 391.67it/s]"
     ]
    },
    {
     "name": "stdout",
     "output_type": "stream",
     "text": [
      "24155\n",
      "300\n"
     ]
    },
    {
     "name": "stderr",
     "output_type": "stream",
     "text": [
      "\n"
     ]
    }
   ],
   "source": [
    "Text_tfidf_w2v_cv_essay= []; \n",
    "for sentence in tqdm(X_cv['cleaned_essay'].values): # for each review/sentence\n",
    "    vector = np.zeros(300) # as word vectors are of zero length\n",
    "    tf_idf_weight =0; # num of words with a valid vector in the sentence/review\n",
    "    for word in sentence.split(): # for each word in a review/sentence\n",
    "        if (word in glove_words) and (word in tfidf_words):\n",
    "            vec = model[word] # getting the vector for each word\n",
    "            # here we are multiplying idf value(dictionary[word]) and the tf value((sentence.count(word)/len(sentence.split())))\n",
    "            tf_idf = dictionary[word]*(sentence.count(word)/len(sentence.split())) # getting the tfidf value for each word\n",
    "            vector += (vec * tf_idf) # calculating tfidf weighted w2v\n",
    "            tf_idf_weight += tf_idf\n",
    "    if tf_idf_weight != 0:\n",
    "        vector /= tf_idf_weight\n",
    "    Text_tfidf_w2v_cv_essay.append(vector)\n",
    "\n",
    "print(len(Text_tfidf_w2v_cv_essay))\n",
    "print(len(Text_tfidf_w2v_cv_essay[0]))"
   ]
  },
  {
   "cell_type": "code",
   "execution_count": 41,
   "metadata": {},
   "outputs": [
    {
     "name": "stderr",
     "output_type": "stream",
     "text": [
      "100%|██████████| 36052/36052 [01:34<00:00, 382.50it/s]"
     ]
    },
    {
     "name": "stdout",
     "output_type": "stream",
     "text": [
      "36052\n",
      "300\n"
     ]
    },
    {
     "name": "stderr",
     "output_type": "stream",
     "text": [
      "\n"
     ]
    }
   ],
   "source": [
    "Text_tfidf_w2v_test_essay= []; \n",
    "for sentence in tqdm(X_test['cleaned_essay'].values): # for each review/sentence\n",
    "    vector = np.zeros(300) # as word vectors are of zero length\n",
    "    tf_idf_weight =0; # num of words with a valid vector in the sentence/review\n",
    "    for word in sentence.split(): # for each word in a review/sentence\n",
    "        if (word in glove_words) and (word in tfidf_words):\n",
    "            vec = model[word] # getting the vector for each word\n",
    "            # here we are multiplying idf value(dictionary[word]) and the tf value((sentence.count(word)/len(sentence.split())))\n",
    "            tf_idf = dictionary[word]*(sentence.count(word)/len(sentence.split())) # getting the tfidf value for each word\n",
    "            vector += (vec * tf_idf) # calculating tfidf weighted w2v\n",
    "            tf_idf_weight += tf_idf\n",
    "    if tf_idf_weight != 0:\n",
    "        vector /= tf_idf_weight\n",
    "    Text_tfidf_w2v_test_essay.append(vector)\n",
    "\n",
    "print(len(Text_tfidf_w2v_test_essay))\n",
    "print(len(Text_tfidf_w2v_test_essay[0]))"
   ]
  },
  {
   "cell_type": "markdown",
   "metadata": {},
   "source": [
    "### 2.9 TFIDF weighted W2V on title"
   ]
  },
  {
   "cell_type": "code",
   "execution_count": 42,
   "metadata": {},
   "outputs": [],
   "source": [
    "# S = [\"abc def pqr\", \"def def def abc\", \"pqr pqr def\"]\n",
    "tfidf_model = TfidfVectorizer()\n",
    "tfidf_model.fit(X_train['cleaned_project_title'].values)\n",
    "# we are converting a dictionary with word as a key, and the idf as a value\n",
    "dictionary = dict(zip(tfidf_model.get_feature_names(), list(tfidf_model.idf_)))\n",
    "tfidf_words = set(tfidf_model.get_feature_names())"
   ]
  },
  {
   "cell_type": "code",
   "execution_count": 43,
   "metadata": {},
   "outputs": [
    {
     "name": "stderr",
     "output_type": "stream",
     "text": [
      "100%|██████████| 49041/49041 [00:01<00:00, 27567.24it/s]"
     ]
    },
    {
     "name": "stdout",
     "output_type": "stream",
     "text": [
      "49041\n",
      "300\n"
     ]
    },
    {
     "name": "stderr",
     "output_type": "stream",
     "text": [
      "\n"
     ]
    }
   ],
   "source": [
    "\n",
    "Text_tfidf_w2v_train_title= []; \n",
    "for sentence in tqdm(X_train['cleaned_project_title'].values): # for each review/sentence\n",
    "    vector = np.zeros(300) # as word vectors are of zero length\n",
    "    tf_idf_weight =0; # num of words with a valid vector in the sentence/review\n",
    "    for word in sentence.split(): # for each word in a review/sentence\n",
    "        if (word in glove_words) and (word in tfidf_words):\n",
    "            vec = model[word] # getting the vector for each word\n",
    "            # here we are multiplying idf value(dictionary[word]) and the tf value((sentence.count(word)/len(sentence.split())))\n",
    "            tf_idf = dictionary[word]*(sentence.count(word)/len(sentence.split())) # getting the tfidf value for each word\n",
    "            vector += (vec * tf_idf) # calculating tfidf weighted w2v\n",
    "            tf_idf_weight += tf_idf\n",
    "    if tf_idf_weight != 0:\n",
    "        vector /= tf_idf_weight\n",
    "    Text_tfidf_w2v_train_title.append(vector)\n",
    "\n",
    "print(len(Text_tfidf_w2v_train_title))\n",
    "print(len(Text_tfidf_w2v_train_title[0]))"
   ]
  },
  {
   "cell_type": "code",
   "execution_count": 44,
   "metadata": {},
   "outputs": [
    {
     "name": "stderr",
     "output_type": "stream",
     "text": [
      "100%|██████████| 24155/24155 [00:00<00:00, 27099.00it/s]"
     ]
    },
    {
     "name": "stdout",
     "output_type": "stream",
     "text": [
      "24155\n",
      "300\n"
     ]
    },
    {
     "name": "stderr",
     "output_type": "stream",
     "text": [
      "\n"
     ]
    }
   ],
   "source": [
    "Text_tfidf_w2v_cv_title= []; \n",
    "for sentence in tqdm(X_cv['cleaned_project_title'].values): # for each review/sentence\n",
    "    vector = np.zeros(300) # as word vectors are of zero length\n",
    "    tf_idf_weight =0; # num of words with a valid vector in the sentence/review\n",
    "    for word in sentence.split(): # for each word in a review/sentence\n",
    "        if (word in glove_words) and (word in tfidf_words):\n",
    "            vec = model[word] # getting the vector for each word\n",
    "            # here we are multiplying idf value(dictionary[word]) and the tf value((sentence.count(word)/len(sentence.split())))\n",
    "            tf_idf = dictionary[word]*(sentence.count(word)/len(sentence.split())) # getting the tfidf value for each word\n",
    "            vector += (vec * tf_idf) # calculating tfidf weighted w2v\n",
    "            tf_idf_weight += tf_idf\n",
    "    if tf_idf_weight != 0:\n",
    "        vector /= tf_idf_weight\n",
    "    Text_tfidf_w2v_cv_title.append(vector)\n",
    "\n",
    "print(len(Text_tfidf_w2v_cv_title))\n",
    "print(len(Text_tfidf_w2v_cv_title[0]))"
   ]
  },
  {
   "cell_type": "code",
   "execution_count": 45,
   "metadata": {},
   "outputs": [
    {
     "name": "stderr",
     "output_type": "stream",
     "text": [
      "100%|██████████| 36052/36052 [00:01<00:00, 27987.76it/s]"
     ]
    },
    {
     "name": "stdout",
     "output_type": "stream",
     "text": [
      "36052\n",
      "300\n"
     ]
    },
    {
     "name": "stderr",
     "output_type": "stream",
     "text": [
      "\n"
     ]
    }
   ],
   "source": [
    "Text_tfidf_w2v_test_title= []; \n",
    "for sentence in tqdm(X_test['cleaned_project_title'].values): # for each review/sentence\n",
    "    vector = np.zeros(300) # as word vectors are of zero length\n",
    "    tf_idf_weight =0; # num of words with a valid vector in the sentence/review\n",
    "    for word in sentence.split(): # for each word in a review/sentence\n",
    "        if (word in glove_words) and (word in tfidf_words):\n",
    "            vec = model[word] # getting the vector for each word\n",
    "            # here we are multiplying idf value(dictionary[word]) and the tf value((sentence.count(word)/len(sentence.split())))\n",
    "            tf_idf = dictionary[word]*(sentence.count(word)/len(sentence.split())) # getting the tfidf value for each word\n",
    "            vector += (vec * tf_idf) # calculating tfidf weighted w2v\n",
    "            tf_idf_weight += tf_idf\n",
    "    if tf_idf_weight != 0:\n",
    "        vector /= tf_idf_weight\n",
    "    Text_tfidf_w2v_test_title.append(vector)\n",
    "\n",
    "print(len(Text_tfidf_w2v_test_title))\n",
    "print(len(Text_tfidf_w2v_test_title[0]))"
   ]
  },
  {
   "cell_type": "markdown",
   "metadata": {},
   "source": [
    "### 2.10 one hot encoding the catogorical features: teacher_prefix"
   ]
  },
  {
   "cell_type": "code",
   "execution_count": 46,
   "metadata": {},
   "outputs": [
    {
     "name": "stdout",
     "output_type": "stream",
     "text": [
      "After vectorizations\n",
      "(49041, 6) (49041,)\n",
      "(24155, 6) (24155,)\n",
      "(36052, 6) (36052,)\n",
      "['dr', 'mr', 'mrs', 'ms', 'nan', 'teacher']\n",
      "====================================================================================================\n"
     ]
    }
   ],
   "source": [
    "vectorizer = CountVectorizer()\n",
    "vectorizer.fit(X_train['teacher_prefix'].values) # fit has to happen only on train data\n",
    "\n",
    "# we use the fitted CountVectorizer to convert the text to vector\n",
    "X_train_teacher_ohe = vectorizer.transform(X_train['teacher_prefix'].values)\n",
    "X_cv_teacher_ohe = vectorizer.transform(X_cv['teacher_prefix'].values)\n",
    "X_test_teacher_ohe = vectorizer.transform(X_test['teacher_prefix'].values)\n",
    "\n",
    "print(\"After vectorizations\")\n",
    "print(X_train_teacher_ohe.shape, Y_train.shape)\n",
    "print(X_cv_teacher_ohe.shape, Y_cv.shape)\n",
    "print(X_test_teacher_ohe.shape, Y_test.shape)\n",
    "print(vectorizer.get_feature_names())\n",
    "print(\"=\"*100)"
   ]
  },
  {
   "cell_type": "markdown",
   "metadata": {},
   "source": [
    "### 2.11 one hot encoding the catogorical features: project Grade"
   ]
  },
  {
   "cell_type": "code",
   "execution_count": 47,
   "metadata": {},
   "outputs": [
    {
     "name": "stdout",
     "output_type": "stream",
     "text": [
      "After vectorizations\n",
      "(49041, 4) (49041,)\n",
      "(24155, 4) (24155,)\n",
      "(36052, 4) (36052,)\n",
      "['grades_3_5', 'grades_6_8', 'grades_9_12', 'grades_prek_2']\n",
      "====================================================================================================\n"
     ]
    }
   ],
   "source": [
    "vectorizer = CountVectorizer()\n",
    "vectorizer.fit(X_train['project_grade_category'].values) # fit has to happen only on train data\n",
    "\n",
    "# we use the fitted CountVectorizer to convert the text to vector\n",
    "X_train_grade_ohe = vectorizer.transform(X_train['project_grade_category'].values)\n",
    "X_cv_grade_ohe = vectorizer.transform(X_cv['project_grade_category'].values)\n",
    "X_test_grade_ohe = vectorizer.transform(X_test['project_grade_category'].values)\n",
    "\n",
    "print(\"After vectorizations\")\n",
    "print(X_train_grade_ohe.shape, Y_train.shape)\n",
    "print(X_cv_grade_ohe.shape, Y_cv.shape)\n",
    "print(X_test_grade_ohe.shape, Y_test.shape)\n",
    "print(vectorizer.get_feature_names())\n",
    "print(\"=\"*100)"
   ]
  },
  {
   "cell_type": "markdown",
   "metadata": {},
   "source": [
    "### 2.12 one hot encoding the catogorical features: state"
   ]
  },
  {
   "cell_type": "code",
   "execution_count": 48,
   "metadata": {},
   "outputs": [
    {
     "name": "stdout",
     "output_type": "stream",
     "text": [
      "After vectorizations\n",
      "(49041, 51) (49041,)\n",
      "(24155, 51) (24155,)\n",
      "(36052, 51) (36052,)\n",
      "['ak', 'al', 'ar', 'az', 'ca', 'co', 'ct', 'dc', 'de', 'fl', 'ga', 'hi', 'ia', 'id', 'il', 'in', 'ks', 'ky', 'la', 'ma', 'md', 'me', 'mi', 'mn', 'mo', 'ms', 'mt', 'nc', 'nd', 'ne', 'nh', 'nj', 'nm', 'nv', 'ny', 'oh', 'ok', 'or', 'pa', 'ri', 'sc', 'sd', 'tn', 'tx', 'ut', 'va', 'vt', 'wa', 'wi', 'wv', 'wy']\n",
      "====================================================================================================\n"
     ]
    }
   ],
   "source": [
    "vectorizer = CountVectorizer()\n",
    "vectorizer.fit(X_train['school_state'].values) # fit has to happen only on train data\n",
    "\n",
    "# we use the fitted CountVectorizer to convert the text to vector\n",
    "X_train_state_ohe = vectorizer.transform(X_train['school_state'].values)\n",
    "X_cv_state_ohe = vectorizer.transform(X_cv['school_state'].values)\n",
    "X_test_state_ohe = vectorizer.transform(X_test['school_state'].values)\n",
    "\n",
    "print(\"After vectorizations\")\n",
    "print(X_train_state_ohe.shape, Y_train.shape)\n",
    "print(X_cv_state_ohe.shape, Y_cv.shape)\n",
    "print(X_test_state_ohe.shape, Y_test.shape)\n",
    "print(vectorizer.get_feature_names())\n",
    "print(\"=\"*100)"
   ]
  },
  {
   "cell_type": "markdown",
   "metadata": {},
   "source": [
    "### 2.13 one hot encoding the catogorical features:clean_categories"
   ]
  },
  {
   "cell_type": "code",
   "execution_count": 49,
   "metadata": {},
   "outputs": [
    {
     "name": "stdout",
     "output_type": "stream",
     "text": [
      "After vectorizations\n",
      "(49041, 9) (49041,)\n",
      "(24155, 9) (24155,)\n",
      "(36052, 9) (36052,)\n",
      "['appliedlearning', 'care_hunger', 'health_sports', 'history_civics', 'literacy_language', 'math_science', 'music_arts', 'specialneeds', 'warmth']\n",
      "====================================================================================================\n"
     ]
    }
   ],
   "source": [
    "vectorizer = CountVectorizer()\n",
    "vectorizer.fit(X_train['clean_categories'].values) # fit has to happen only on train data\n",
    "\n",
    "# we use the fitted CountVectorizer to convert the text to vector\n",
    "X_train_clean_categories_ohe = vectorizer.transform(X_train['clean_categories'].values)\n",
    "X_cv_clean_categories_ohe = vectorizer.transform(X_cv['clean_categories'].values)\n",
    "X_test_clean_categories_ohe = vectorizer.transform(X_test['clean_categories'].values)\n",
    "\n",
    "print(\"After vectorizations\")\n",
    "print(X_train_clean_categories_ohe.shape, Y_train.shape)\n",
    "print(X_cv_clean_categories_ohe.shape, Y_cv.shape)\n",
    "print(X_test_clean_categories_ohe.shape, Y_test.shape)\n",
    "print(vectorizer.get_feature_names())\n",
    "print(\"=\"*100)"
   ]
  },
  {
   "cell_type": "markdown",
   "metadata": {},
   "source": [
    "### 2.14 one hot encoding the catogorical features:clean_subcategories"
   ]
  },
  {
   "cell_type": "code",
   "execution_count": 50,
   "metadata": {},
   "outputs": [
    {
     "name": "stdout",
     "output_type": "stream",
     "text": [
      "After vectorizations\n",
      "(49041, 30) (49041,)\n",
      "(24155, 30) (24155,)\n",
      "(36052, 30) (36052,)\n",
      "['appliedsciences', 'care_hunger', 'charactereducation', 'civics_government', 'college_careerprep', 'communityservice', 'earlydevelopment', 'economics', 'environmentalscience', 'esl', 'extracurricular', 'financialliteracy', 'foreignlanguages', 'gym_fitness', 'health_lifescience', 'health_wellness', 'history_geography', 'literacy', 'literature_writing', 'mathematics', 'music', 'nutritioneducation', 'other', 'parentinvolvement', 'performingarts', 'socialsciences', 'specialneeds', 'teamsports', 'visualarts', 'warmth']\n",
      "====================================================================================================\n"
     ]
    }
   ],
   "source": [
    "vectorizer = CountVectorizer()\n",
    "vectorizer.fit(X_train['clean_subcategories'].values) # fit has to happen only on train data\n",
    "\n",
    "# we use the fitted CountVectorizer to convert the text to vector\n",
    "X_train_clean_subcategories_ohe = vectorizer.transform(X_train['clean_subcategories'].values)\n",
    "X_cv_clean_subcategories_ohe = vectorizer.transform(X_cv['clean_subcategories'].values)\n",
    "X_test_clean_subcategories_ohe = vectorizer.transform(X_test['clean_subcategories'].values)\n",
    "\n",
    "print(\"After vectorizations\")\n",
    "print(X_train_clean_subcategories_ohe.shape, Y_train.shape)\n",
    "print(X_cv_clean_subcategories_ohe.shape, Y_cv.shape)\n",
    "print(X_test_clean_subcategories_ohe.shape, Y_test.shape)\n",
    "print(vectorizer.get_feature_names())\n",
    "print(\"=\"*100)"
   ]
  },
  {
   "cell_type": "markdown",
   "metadata": {},
   "source": [
    "### 2.15 Normalizing the numerical features: Price"
   ]
  },
  {
   "cell_type": "code",
   "execution_count": 51,
   "metadata": {},
   "outputs": [
    {
     "name": "stdout",
     "output_type": "stream",
     "text": [
      "After vectorizations\n",
      "(49041, 1) (49041,)\n",
      "(24155, 1) (24155,)\n",
      "(36052, 1) (36052,)\n",
      "====================================================================================================\n"
     ]
    }
   ],
   "source": [
    "from sklearn.preprocessing import Normalizer\n",
    "normalizer = Normalizer()\n",
    "\n",
    "normalizer.fit(X_train['price'].values.reshape(-1,1))\n",
    "\n",
    "X_train_price_norm = normalizer.transform(X_train['price'].values.reshape(-1,1))\n",
    "X_cv_price_norm = normalizer.transform(X_cv['price'].values.reshape(-1,1))\n",
    "X_test_price_norm = normalizer.transform(X_test['price'].values.reshape(-1,1))\n",
    "\n",
    "print(\"After vectorizations\")\n",
    "print(X_train_price_norm.shape, Y_train.shape)\n",
    "print(X_cv_price_norm.shape, Y_cv.shape)\n",
    "print(X_test_price_norm.shape, Y_test.shape)\n",
    "print(\"=\"*100)"
   ]
  },
  {
   "cell_type": "markdown",
   "metadata": {},
   "source": [
    "### 2.16 Normalizing the numerical features:teacher_number_of_previously_posted_projects"
   ]
  },
  {
   "cell_type": "code",
   "execution_count": 52,
   "metadata": {},
   "outputs": [
    {
     "name": "stdout",
     "output_type": "stream",
     "text": [
      "After vectorizations\n",
      "(49041, 1) (49041,)\n",
      "(24155, 1) (24155,)\n",
      "(36052, 1) (36052,)\n",
      "====================================================================================================\n"
     ]
    }
   ],
   "source": [
    "from sklearn.preprocessing import Normalizer\n",
    "normalizer = Normalizer()\n",
    "\n",
    "normalizer.fit(X_train['teacher_number_of_previously_posted_projects'].values.reshape(-1,1))\n",
    "\n",
    "X_train_TPPP_norm = normalizer.transform(X_train['teacher_number_of_previously_posted_projects'].values.reshape(-1,1))\n",
    "X_cv_TPPP_norm = normalizer.transform(X_cv['teacher_number_of_previously_posted_projects'].values.reshape(-1,1))\n",
    "X_test_TPPP_norm = normalizer.transform(X_test['teacher_number_of_previously_posted_projects'].values.reshape(-1,1))\n",
    "\n",
    "print(\"After vectorizations\")\n",
    "print(X_train_TPPP_norm.shape, Y_train.shape)\n",
    "print(X_cv_TPPP_norm.shape, Y_cv.shape)\n",
    "print(X_test_TPPP_norm.shape, Y_test.shape)\n",
    "print(\"=\"*100)"
   ]
  },
  {
   "cell_type": "markdown",
   "metadata": {},
   "source": [
    "### 2.17 Normalizing the numerical features: quantity"
   ]
  },
  {
   "cell_type": "code",
   "execution_count": 53,
   "metadata": {},
   "outputs": [
    {
     "name": "stdout",
     "output_type": "stream",
     "text": [
      "After vectorizations\n",
      "(49041, 1) (49041,)\n",
      "(24155, 1) (24155,)\n",
      "(36052, 1) (36052,)\n",
      "====================================================================================================\n"
     ]
    }
   ],
   "source": [
    "from sklearn.preprocessing import Normalizer\n",
    "normalizer = Normalizer()\n",
    "\n",
    "normalizer.fit(X_train['quantity'].values.reshape(-1,1))\n",
    "\n",
    "X_train_quantity_norm = normalizer.transform(X_train['quantity'].values.reshape(-1,1))\n",
    "X_cv_quantity_norm = normalizer.transform(X_cv['quantity'].values.reshape(-1,1))\n",
    "X_test_quantity_norm = normalizer.transform(X_test['quantity'].values.reshape(-1,1))\n",
    "\n",
    "print(\"After vectorizations\")\n",
    "print(X_train_quantity_norm.shape, Y_train.shape)\n",
    "print(X_cv_quantity_norm.shape, Y_cv.shape)\n",
    "print(X_test_quantity_norm.shape, Y_test.shape)\n",
    "print(\"=\"*100)"
   ]
  },
  {
   "cell_type": "markdown",
   "metadata": {},
   "source": [
    "### 2.18 Normalizing the numerical features: totalwords_title"
   ]
  },
  {
   "cell_type": "code",
   "execution_count": 54,
   "metadata": {},
   "outputs": [
    {
     "name": "stdout",
     "output_type": "stream",
     "text": [
      "After vectorizations\n",
      "(49041, 1) (49041,)\n",
      "(24155, 1) (24155,)\n",
      "(36052, 1) (36052,)\n",
      "====================================================================================================\n"
     ]
    }
   ],
   "source": [
    "from sklearn.preprocessing import Normalizer\n",
    "normalizer = Normalizer()\n",
    "\n",
    "normalizer.fit(X_train['totalwords_title'].values.reshape(-1,1))\n",
    "\n",
    "X_train_totalwords_title_norm = normalizer.transform(X_train['totalwords_title'].values.reshape(-1,1))\n",
    "X_cv_totalwords_title_norm = normalizer.transform(X_cv['totalwords_title'].values.reshape(-1,1))\n",
    "X_test_totalwords_title_norm = normalizer.transform(X_test['totalwords_title'].values.reshape(-1,1))\n",
    "\n",
    "print(\"After vectorizations\")\n",
    "print(X_train_totalwords_title_norm.shape, Y_train.shape)\n",
    "print(X_cv_totalwords_title_norm.shape, Y_cv.shape)\n",
    "print(X_test_totalwords_title_norm.shape, Y_test.shape)\n",
    "print(\"=\"*100)"
   ]
  },
  {
   "cell_type": "markdown",
   "metadata": {},
   "source": [
    "### 2.19 adding sentimental score: sentimental score of essay"
   ]
  },
  {
   "cell_type": "code",
   "execution_count": 55,
   "metadata": {},
   "outputs": [
    {
     "name": "stdout",
     "output_type": "stream",
     "text": [
      "After vectorizations\n",
      "(49041,) (49041,)\n",
      "(24155,) (24155,)\n",
      "(36052,) (36052,)\n",
      "====================================================================================================\n"
     ]
    }
   ],
   "source": [
    "\n",
    "X_train_essay_sentiment_neg = X_train['neg']\n",
    "X_train_essay_sentiment_neu = X_train['neu']\n",
    "X_train_essay_sentiment_pos = X_train['pos']\n",
    "X_train_essay_sentiment_compound = X_train['compound']\n",
    "\n",
    "X_cv_essay_sentiment_neg = X_cv['neg']\n",
    "X_cv_essay_sentiment_neu = X_cv['neu']\n",
    "X_cv_essay_sentiment_pos = X_cv['pos']\n",
    "X_cv_essay_sentiment_compound = X_cv['compound']\n",
    "\n",
    "X_test_essay_sentiment_neg = X_test['neg']\n",
    "X_test_essay_sentiment_neu = X_test['neu']\n",
    "X_test_essay_sentiment_pos = X_test['pos']\n",
    "X_test_essay_sentiment_compound = X_test['compound']\n",
    "\n",
    "\n",
    "print(\"After vectorizations\")\n",
    "print(X_train_essay_sentiment_neg.shape, Y_train.shape)\n",
    "print(X_cv_essay_sentiment_neg.shape, Y_cv.shape)\n",
    "print(X_test_essay_sentiment_neg.shape, Y_test.shape)\n",
    "\n",
    "\n",
    "print(\"=\"*100)"
   ]
  },
  {
   "cell_type": "markdown",
   "metadata": {},
   "source": [
    "### 2.20 Normalizing the numerical features: totalwords_essay"
   ]
  },
  {
   "cell_type": "code",
   "execution_count": 56,
   "metadata": {},
   "outputs": [
    {
     "name": "stdout",
     "output_type": "stream",
     "text": [
      "After vectorizations\n",
      "(49041, 1) (49041,)\n",
      "(24155, 1) (24155,)\n",
      "(36052, 1) (36052,)\n",
      "====================================================================================================\n"
     ]
    }
   ],
   "source": [
    "from sklearn.preprocessing import Normalizer\n",
    "normalizer = Normalizer()\n",
    "\n",
    "normalizer.fit(X_train['totalwords_essay'].values.reshape(-1,1))\n",
    "\n",
    "X_train_totalwords_essay_norm = normalizer.transform(X_train['totalwords_essay'].values.reshape(-1,1))\n",
    "X_cv_totalwords_essay_norm = normalizer.transform(X_cv['totalwords_essay'].values.reshape(-1,1))\n",
    "X_test_totalwords_essay_norm = normalizer.transform(X_test['totalwords_essay'].values.reshape(-1,1))\n",
    "\n",
    "print(\"After vectorizations\")\n",
    "print(X_train_totalwords_essay_norm.shape, Y_train.shape)\n",
    "print(X_cv_totalwords_essay_norm.shape, Y_cv.shape)\n",
    "print(X_test_totalwords_essay_norm.shape, Y_test.shape)\n",
    "print(\"=\"*100)"
   ]
  },
  {
   "cell_type": "markdown",
   "metadata": {},
   "source": [
    "## 3. SVM on BOW"
   ]
  },
  {
   "cell_type": "markdown",
   "metadata": {},
   "source": [
    "### 3.1 BOW:Concatinating all the features"
   ]
  },
  {
   "cell_type": "code",
   "execution_count": 57,
   "metadata": {},
   "outputs": [
    {
     "name": "stdout",
     "output_type": "stream",
     "text": [
      "Final Data matrix\n",
      "(49041, 8853) (49041,)\n",
      "(24155, 8853) (24155,)\n",
      "(36052, 8853) (36052,)\n",
      "====================================================================================================\n"
     ]
    }
   ],
   "source": [
    "from scipy.sparse import hstack\n",
    "\n",
    "\n",
    "X_tr_bow=hstack((X_train_state_ohe,X_train_clean_categories_ohe,X_train_clean_subcategories_ohe,X_train_grade_ohe,X_train_teacher_ohe,X_train_quantity_norm,X_train_TPPP_norm,X_train_price_norm,X_train_essay_bow,X_train_title_bow)).tocsr()\n",
    "X_cr_bow=hstack((X_cv_state_ohe,X_cv_clean_categories_ohe,X_cv_clean_subcategories_ohe,X_cv_grade_ohe,X_cv_teacher_ohe,X_cv_quantity_norm,X_cv_TPPP_norm,X_cv_price_norm,X_cv_essay_bow,X_cv_title_bow)).tocsr()\n",
    "X_te_bow=hstack((X_test_state_ohe,X_test_clean_categories_ohe,X_test_clean_subcategories_ohe,X_test_grade_ohe,X_test_teacher_ohe,X_test_quantity_norm,X_test_TPPP_norm,X_test_price_norm,X_test_essay_bow,X_test_title_bow)).tocsr()\n",
    "print(\"Final Data matrix\")\n",
    "print(X_tr_bow.shape, Y_train.shape)\n",
    "print(X_cr_bow.shape, Y_cv.shape)\n",
    "print(X_te_bow.shape, Y_test.shape)\n",
    "print(\"=\"*100)"
   ]
  },
  {
   "cell_type": "markdown",
   "metadata": {},
   "source": [
    "### 3.2 Hyper parameter Tuning:simple for loop for Train and cross validation"
   ]
  },
  {
   "cell_type": "code",
   "execution_count": 58,
   "metadata": {},
   "outputs": [
    {
     "name": "stdout",
     "output_type": "stream",
     "text": [
      "Fitting 3 folds for each of 16 candidates, totalling 48 fits\n"
     ]
    },
    {
     "name": "stderr",
     "output_type": "stream",
     "text": [
      "[Parallel(n_jobs=-1)]: Using backend LokyBackend with 4 concurrent workers.\n",
      "[Parallel(n_jobs=-1)]: Done  48 out of  48 | elapsed:  1.4min finished\n"
     ]
    },
    {
     "name": "stdout",
     "output_type": "stream",
     "text": [
      "BEST ALPHA:  0.01  BEST SCORE:  0.702684628490133 BEST REGULARIZER:  l2\n"
     ]
    },
    {
     "data": {
      "image/png": "[encoded data removed]",
      "text/plain": [
       "<Figure size 720x360 with 1 Axes>"
      ]
     },
     "metadata": {
      "needs_background": "light"
     },
     "output_type": "display_data"
    }
   ],
   "source": [
    "import matplotlib.pyplot as plt\n",
    "#from sklearn.linear_model import LogisticRegression\n",
    "from sklearn.metrics import roc_auc_score\n",
    "from sklearn.linear_model import SGDClassifier\n",
    "from sklearn.model_selection import GridSearchCV\n",
    "\n",
    "svm_bow = SGDClassifier(loss='hinge',class_weight=\"balanced\")\n",
    "parameters = {'alpha':[0.0001,0.001,0.01,0.1,1,10,100,1000],'penalty':['l1','l2']}\n",
    "\n",
    "clf = GridSearchCV(svm_bow, parameters, cv= 3, scoring='roc_auc',verbose=1,return_train_score=True,n_jobs=-1)\n",
    "\n",
    "\n",
    "clf.fit(X_tr_bow,Y_train)\n",
    "\n",
    "\n",
    "train_auc= clf.cv_results_['mean_train_score']\n",
    "train_auc_std= clf.cv_results_['std_train_score']\n",
    "cv_auc = clf.cv_results_['mean_test_score']\n",
    "cv_auc_std= clf.cv_results_['std_test_score']\n",
    "\n",
    "bestAlpha_1=clf.best_params_['alpha']\n",
    "bestPenalty_1=clf.best_params_['penalty']\n",
    "bestScore_1=clf.best_score_\n",
    "\n",
    "bestAlpha_bow=bestAlpha_1\n",
    "bestPenalty_bow=bestPenalty_1\n",
    "bestScore_bow=bestScore_1\n",
    "\n",
    "\n",
    "\n",
    "\n",
    "print(\"BEST ALPHA: \",clf.best_params_['alpha'],\" BEST SCORE: \",clf.best_score_,\"BEST REGULARIZER: \",clf.best_params_['penalty']) #clf.best_estimator_.alpha\n",
    "\n",
    "\n",
    "alphas = [0.0001,0.001,0.01,0.1,1,10,100,1000]\n",
    "\n",
    "train_auc_l1=[train_auc[i] for i in range(0,len(train_auc),2)] #range(start, stop, step)\n",
    "train_auc_l2=[train_auc[i] for i in range(1,len(train_auc),2)]\n",
    "\n",
    "cv_auc_l1=[cv_auc[i] for i in range(0,len(cv_auc),2)]\n",
    "cv_auc_l2=[cv_auc[i] for i in range(1,len(cv_auc),2)]\n",
    "\n",
    "\n",
    "    \n",
    "plt.figure(figsize=(10,5))\n",
    "plt.plot(np.log10(alphas), train_auc_l1, label='Train AUC L1')\n",
    "plt.plot(np.log10(alphas), train_auc_l2, label='Train AUC L2')\n",
    "plt.plot(np.log10(alphas), cv_auc_l1, label='CV AUC L1')\n",
    "plt.plot(np.log10(alphas), cv_auc_l2, label='CV AUC L2')\n",
    "\n",
    "plt.scatter(np.log10(alphas), train_auc_l1, label='Train AUC L1 points')\n",
    "plt.scatter(np.log10(alphas), train_auc_l2, label='Train AUC L2 points')\n",
    "plt.scatter(np.log10(alphas), cv_auc_l1, label='CV AUC L1 points')\n",
    "plt.scatter(np.log10(alphas), cv_auc_l2, label='CV AUC L2 points')\n",
    "plt.legend()\n",
    "plt.xlabel(\"Alpha: Hyperparameter\")\n",
    "plt.ylabel(\"AUC\")\n",
    "plt.title(\"Alpha: Hyperparameter v/s AUC\")\n",
    "plt.grid()\n",
    "plt.show()\n",
    "\n",
    "\n",
    "\n",
    "\n",
    "\n",
    "\n",
    "\n",
    "\n",
    "\n",
    "\n",
    "\n",
    "\n",
    "\n",
    "\n",
    "\n",
    "\n",
    "\n",
    "\n",
    "\n"
   ]
  },
  {
   "cell_type": "markdown",
   "metadata": {},
   "source": [
    "#### Observations\n",
    "\n",
    "1.By observing plot of auc score of train and cross validation we understand alpha=0.01 is best hyperparameter as cross validation auc is very high and does not cause overfit and underfit at alpha=0.01.\n"
   ]
  },
  {
   "cell_type": "markdown",
   "metadata": {},
   "source": [
    "### 3.3 ROC curve with best lambda"
   ]
  },
  {
   "cell_type": "code",
   "execution_count": 59,
   "metadata": {},
   "outputs": [
    {
     "data": {
      "image/png": "[encoded data removed]",
      "text/plain": [
       "<Figure size 432x288 with 1 Axes>"
      ]
     },
     "metadata": {
      "needs_background": "light"
     },
     "output_type": "display_data"
    }
   ],
   "source": [
    "from sklearn.metrics import roc_curve, auc\n",
    "\n",
    "svm_bow_testModel = SGDClassifier(loss='hinge',penalty=bestPenalty_1,alpha=bestAlpha_1,class_weight=\"balanced\")\n",
    "svm_bow_testModel.fit(X_tr_bow,Y_train)\n",
    "\n",
    "y_train_pred=svm_bow_testModel.decision_function(X_tr_bow)\n",
    "y_test_pred=svm_bow_testModel.decision_function(X_te_bow)\n",
    "\n",
    "train_fpr, train_tpr, tr_thresholds = roc_curve(Y_train, y_train_pred)\n",
    "test_fpr, test_tpr, te_thresholds = roc_curve(Y_test, y_test_pred)\n",
    "\n",
    "ax = plt.subplot()\n",
    "\n",
    "auc_set1_train=auc(train_fpr, train_tpr)\n",
    "auc_set1_test=auc(test_fpr, test_tpr)\n",
    "\n",
    "\n",
    "ax.plot(train_fpr, train_tpr, label=\"Train AUC =\"+str(auc(train_fpr, train_tpr)))\n",
    "ax.plot(test_fpr, test_tpr, label=\"Test AUC =\"+str(auc(test_fpr, test_tpr)))\n",
    "plt.legend()\n",
    "plt.xlabel(\"False Positive Rate(FPR)\")\n",
    "plt.ylabel(\"True Positive Rate(TPR)\")\n",
    "plt.title(\"AUC\")\n",
    "plt.grid(b=True, which='major', color='k', linestyle=':')\n",
    "ax.set_facecolor(\"white\")\n",
    "plt.show()"
   ]
  },
  {
   "cell_type": "markdown",
   "metadata": {},
   "source": [
    "#### Observations\n",
    "\n",
    "1.By looking ROC curve of Training FPR and TPR it looks sensible as it is greater than diagonal line \n",
    "\n",
    "2.By looking ROC curve of Test FPR and TPR is sensible .Model is generalize model"
   ]
  },
  {
   "cell_type": "code",
   "execution_count": 60,
   "metadata": {},
   "outputs": [],
   "source": [
    "def predict(proba, threshould, fpr, tpr):\n",
    "    \n",
    "    t = threshould[np.argmax(tpr*(1-fpr))]\n",
    "\n",
    "    \n",
    "    #(tpr*(1-fpr)) will be maximum if your fpr is very low and tpr is very high\n",
    "    \n",
    "    #print(\"the maximum value of tpr*(1-fpr)\", max(tpr*(1-fpr)), \"for threshold\", np.round(t,3))\n",
    "    predictions = []\n",
    "    for i in proba:\n",
    "        if i>=t:\n",
    "            predictions.append(1)\n",
    "        else:\n",
    "            predictions.append(0)    \n",
    "    return predictions"
   ]
  },
  {
   "cell_type": "code",
   "execution_count": 61,
   "metadata": {},
   "outputs": [
    {
     "name": "stdout",
     "output_type": "stream",
     "text": [
      "====================================================================================================\n",
      "Train confusion matrix\n",
      "[[ 5473  1953]\n",
      " [10667 30948]]\n",
      "====================================================================================================\n",
      "Accuracy score  for Train\n",
      "0.7426643012989131\n",
      "====================================================================================================\n",
      "Test confusion matrix\n",
      "[[ 3403  2056]\n",
      " [ 9203 21390]]\n",
      "====================================================================================================\n",
      "Accuracy score  for Test\n",
      "0.6877010984134029\n",
      "====================================================================================================\n"
     ]
    }
   ],
   "source": [
    "from sklearn.metrics import accuracy_score \n",
    "from sklearn.metrics import classification_report\n",
    "\n",
    "y_train_predicted_withthroshold=predict(y_train_pred, tr_thresholds, train_fpr, train_tpr)\n",
    "y_test_predicted_withthroshold=predict(y_test_pred, tr_thresholds, test_fpr, test_tpr)\n",
    "\n",
    "cm_train=confusion_matrix(Y_train,y_train_predicted_withthroshold,labels=[0, 1])\n",
    "\n",
    "\n",
    "\n",
    "print(\"=\"*100)\n",
    "from sklearn.metrics import confusion_matrix\n",
    "print(\"Train confusion matrix\")\n",
    "print(cm_train)\n",
    "print(\"=\"*100)\n",
    "print(\"Accuracy score  for Train\")\n",
    "print(accuracy_score(Y_train, predict(y_train_pred, tr_thresholds, train_fpr, train_tpr)))\n",
    "print(\"=\"*100)\n",
    "\n",
    "cm_test=confusion_matrix(Y_test,y_test_predicted_withthroshold,labels=[0, 1])\n",
    "\n",
    "print(\"Test confusion matrix\")\n",
    "\n",
    "print(cm_test)\n",
    "print(\"=\"*100)\n",
    "print(\"Accuracy score  for Test\")\n",
    "accuracy_score_bow=accuracy_score(Y_test, predict(y_test_pred, tr_thresholds, test_fpr, test_tpr))\n",
    "print(accuracy_score_bow)\n",
    "print(\"=\"*100)"
   ]
  },
  {
   "cell_type": "code",
   "execution_count": 62,
   "metadata": {},
   "outputs": [],
   "source": [
    "def myplot_matrix1(data):\n",
    "    plt.clf()\n",
    "    plt.imshow(data, interpolation='nearest', cmap=plt.cm.Wistia)\n",
    "    classNames = ['Negative','Positive']\n",
    "    plt.title('Approved not approved matrix')\n",
    "    tick_marks = np.arange(len(classNames))\n",
    "    \n",
    "    plt.xticks(tick_marks, classNames, rotation=45)\n",
    "    plt.yticks(tick_marks, classNames)\n",
    "    s = [['TN','FN'], ['FP', 'TP']]\n",
    "    for i in range(2):\n",
    "        for j in range(2):\n",
    "            plt.text(j,i, str(s[i][j])+\" = \"+str(data[i][j]))\n",
    "    plt.show()"
   ]
  },
  {
   "cell_type": "code",
   "execution_count": 63,
   "metadata": {},
   "outputs": [
    {
     "name": "stdout",
     "output_type": "stream",
     "text": [
      "confusion matrix for train data\n",
      "====================================================================================================\n"
     ]
    },
    {
     "data": {
      "image/png": "[encoded data removed]",
      "text/plain": [
       "<Figure size 432x288 with 1 Axes>"
      ]
     },
     "metadata": {
      "needs_background": "light"
     },
     "output_type": "display_data"
    },
    {
     "name": "stdout",
     "output_type": "stream",
     "text": [
      "confusion matrix for Test data\n",
      "====================================================================================================\n"
     ]
    },
    {
     "data": {
      "image/png": "[encoded data removed]",
      "text/plain": [
       "<Figure size 432x288 with 1 Axes>"
      ]
     },
     "metadata": {
      "needs_background": "light"
     },
     "output_type": "display_data"
    }
   ],
   "source": [
    "\n",
    "print(\"confusion matrix for train data\")\n",
    "print(\"=\"*100)\n",
    "myplot_matrix1(cm_train)\n",
    "print(\"confusion matrix for Test data\")\n",
    "\n",
    "print(\"=\"*100)\n",
    "myplot_matrix1(cm_test)"
   ]
  },
  {
   "cell_type": "markdown",
   "metadata": {},
   "source": [
    "### observations"
   ]
  },
  {
   "cell_type": "markdown",
   "metadata": {},
   "source": [
    "\n",
    "1.TN and TP of train data and test data is higher.\n",
    "\n",
    "2.Accuracy score on train data is 73% and test data is 69%.\n",
    "\n",
    "3.TPR rate of test data is 91% .FPR rate of test data is 72%.TPR rate of test data is more than FPR rate of test data\n",
    "\n",
    "4.TNR rate of testdata is 27% .FNR of test data is 8%.TNR rate of test data is more than FNR rate of test data.\n",
    "\n"
   ]
  },
  {
   "cell_type": "markdown",
   "metadata": {},
   "source": [
    " ## 4. SVM on TFIDF"
   ]
  },
  {
   "cell_type": "markdown",
   "metadata": {},
   "source": [
    "### 4.1 TFIDF:Concatinating all the features"
   ]
  },
  {
   "cell_type": "code",
   "execution_count": 64,
   "metadata": {},
   "outputs": [
    {
     "name": "stdout",
     "output_type": "stream",
     "text": [
      "Final Data matrix\n",
      "(49041, 7183) (49041,)\n",
      "(24155, 7183) (24155,)\n",
      "(36052, 7183) (36052,)\n",
      "====================================================================================================\n"
     ]
    }
   ],
   "source": [
    "\n",
    "X_tr_tfidf=hstack((X_train_essay_tfidf,X_train_title_tfidf,X_train_state_ohe,X_train_clean_categories_ohe,X_train_clean_subcategories_ohe,X_train_grade_ohe,X_train_teacher_ohe,X_train_quantity_norm,X_train_TPPP_norm,X_train_price_norm)).tocsr()\n",
    "X_cr_tfidf=hstack((X_cv_essay_tfidf,X_cv_title_tfidf,X_cv_state_ohe,X_cv_clean_categories_ohe,X_cv_clean_subcategories_ohe,X_cv_grade_ohe,X_cv_teacher_ohe,X_cv_quantity_norm,X_cv_TPPP_norm,X_cv_price_norm)).tocsr()\n",
    "X_te_tfidf=hstack((X_test_essay_tfidf,X_test_title_tfidf,X_test_state_ohe,X_test_clean_categories_ohe,X_test_clean_subcategories_ohe,X_test_grade_ohe,X_test_teacher_ohe,X_test_quantity_norm,X_test_TPPP_norm,X_test_price_norm)).tocsr()\n",
    "\n",
    "print(\"Final Data matrix\")\n",
    "print(X_tr_tfidf.shape, Y_train.shape)\n",
    "print(X_cr_tfidf.shape, Y_cv.shape)\n",
    "print(X_te_tfidf.shape, Y_test.shape)\n",
    "print(\"=\"*100)"
   ]
  },
  {
   "cell_type": "markdown",
   "metadata": {},
   "source": [
    "### 4.2 Hyper parameter Tuning:simple for loop for Train and cross validation"
   ]
  },
  {
   "cell_type": "code",
   "execution_count": 65,
   "metadata": {},
   "outputs": [
    {
     "name": "stdout",
     "output_type": "stream",
     "text": [
      "Fitting 3 folds for each of 16 candidates, totalling 48 fits\n"
     ]
    },
    {
     "name": "stderr",
     "output_type": "stream",
     "text": [
      "[Parallel(n_jobs=-1)]: Using backend LokyBackend with 4 concurrent workers.\n",
      "[Parallel(n_jobs=-1)]: Done  48 out of  48 | elapsed:    9.7s finished\n"
     ]
    },
    {
     "name": "stdout",
     "output_type": "stream",
     "text": [
      "BEST ALPHA:  0.0001  BEST SCORE:  0.6959525675812355 BEST REGULARIZER:  l1\n"
     ]
    },
    {
     "data": {
      "image/png": "[encoded data removed]",
      "text/plain": [
       "<Figure size 720x360 with 1 Axes>"
      ]
     },
     "metadata": {
      "needs_background": "light"
     },
     "output_type": "display_data"
    }
   ],
   "source": [
    "train_auc = []\n",
    "cv_auc = []\n",
    "\n",
    "\n",
    "svm_tfidf = SGDClassifier(loss='hinge',class_weight=\"balanced\")\n",
    "parameters = {'alpha':[0.0001,0.001,0.01,0.1,1,10,100,1000],'penalty':['l1','l2']}\n",
    "\n",
    "clf = GridSearchCV(svm_tfidf, parameters, cv= 3, scoring='roc_auc',verbose=1,return_train_score=True,n_jobs=-1)\n",
    "\n",
    "\n",
    "clf.fit(X_tr_tfidf,Y_train)\n",
    "\n",
    "\n",
    "train_auc= clf.cv_results_['mean_train_score']\n",
    "train_auc_std= clf.cv_results_['std_train_score']\n",
    "cv_auc = clf.cv_results_['mean_test_score']\n",
    "cv_auc_std= clf.cv_results_['std_test_score']\n",
    "\n",
    "bestAlpha_1=clf.best_params_['alpha']\n",
    "bestPenalty_1=clf.best_params_['penalty']\n",
    "bestScore_1=clf.best_score_\n",
    "\n",
    "\n",
    "bestAlpha_tfidf=bestAlpha_1\n",
    "bestPenalty_tfidf=bestPenalty_1\n",
    "bestScore_tfidf=bestScore_1\n",
    "\n",
    "\n",
    "\n",
    "\n",
    "\n",
    "\n",
    "print(\"BEST ALPHA: \",clf.best_params_['alpha'],\" BEST SCORE: \",clf.best_score_,\"BEST REGULARIZER: \",clf.best_params_['penalty']) #clf.best_estimator_.alpha\n",
    "\n",
    "\n",
    "alphas = [0.0001,0.001,0.01,0.1,1,10,100,1000]\n",
    "\n",
    "train_auc_l1=[train_auc[i] for i in range(0,len(train_auc),2)] #range(start, stop, step)\n",
    "train_auc_l2=[train_auc[i] for i in range(1,len(train_auc),2)]\n",
    "\n",
    "cv_auc_l1=[cv_auc[i] for i in range(0,len(cv_auc),2)]\n",
    "cv_auc_l2=[cv_auc[i] for i in range(1,len(cv_auc),2)]\n",
    "\n",
    "\n",
    "    \n",
    "plt.figure(figsize=(10,5))\n",
    "plt.plot(np.log10(alphas), train_auc_l1, label='Train AUC L1')\n",
    "plt.plot(np.log10(alphas), train_auc_l2, label='Train AUC L2')\n",
    "plt.plot(np.log10(alphas), cv_auc_l1, label='CV AUC L1')\n",
    "plt.plot(np.log10(alphas), cv_auc_l2, label='CV AUC L2')\n",
    "\n",
    "plt.scatter(np.log10(alphas), train_auc_l1, label='Train AUC L1 points')\n",
    "plt.scatter(np.log10(alphas), train_auc_l2, label='Train AUC L2 points')\n",
    "plt.scatter(np.log10(alphas), cv_auc_l1, label='CV AUC L1 points')\n",
    "plt.scatter(np.log10(alphas), cv_auc_l2, label='CV AUC L2 points')\n",
    "plt.legend()\n",
    "plt.xlabel(\"Alpha: Hyperparameter\")\n",
    "plt.ylabel(\"AUC\")\n",
    "plt.title(\"Alpha: Hyperparameter v/s AUC\")\n",
    "plt.grid()\n",
    "plt.show()\n"
   ]
  },
  {
   "cell_type": "markdown",
   "metadata": {},
   "source": [
    "### Observations\n",
    "1.By observing plot of auc score of train and cross validation we understand alpha=0.00001 is best hyperparameter as cross validation auc is very high and does not cause overfit and underfit at alpha=0.0001."
   ]
  },
  {
   "cell_type": "markdown",
   "metadata": {},
   "source": [
    "### 4.3 ROC curve with best lambda"
   ]
  },
  {
   "cell_type": "code",
   "execution_count": 66,
   "metadata": {},
   "outputs": [
    {
     "data": {
      "image/png": "[encoded data removed]",
      "text/plain": [
       "<Figure size 432x288 with 1 Axes>"
      ]
     },
     "metadata": {
      "needs_background": "light"
     },
     "output_type": "display_data"
    }
   ],
   "source": [
    "\n",
    "svm_tfidf_testModel = SGDClassifier(loss='hinge',penalty=bestPenalty_1,alpha=bestAlpha_1,class_weight=\"balanced\")\n",
    "svm_tfidf_testModel.fit(X_tr_tfidf,Y_train)\n",
    "\n",
    "y_train_pred=svm_tfidf_testModel.decision_function(X_tr_tfidf)\n",
    "y_test_pred=svm_tfidf_testModel.decision_function(X_te_tfidf)\n",
    "\n",
    "train_fpr, train_tpr, tr_thresholds = roc_curve(Y_train, y_train_pred)\n",
    "test_fpr, test_tpr, te_thresholds = roc_curve(Y_test, y_test_pred)\n",
    "\n",
    "ax = plt.subplot()\n",
    "\n",
    "auc_set1_train=auc(train_fpr, train_tpr)\n",
    "auc_set1_test=auc(test_fpr, test_tpr)\n",
    "\n",
    "\n",
    "ax.plot(train_fpr, train_tpr, label=\"Train AUC =\"+str(auc(train_fpr, train_tpr)))\n",
    "ax.plot(test_fpr, test_tpr, label=\"Test AUC =\"+str(auc(test_fpr, test_tpr)))\n",
    "plt.legend()\n",
    "plt.xlabel(\"False Positive Rate(FPR)\")\n",
    "plt.ylabel(\"True Positive Rate(TPR)\")\n",
    "plt.title(\"AUC\")\n",
    "plt.grid(b=True, which='major', color='k', linestyle=':')\n",
    "ax.set_facecolor(\"white\")\n",
    "plt.show()"
   ]
  },
  {
   "cell_type": "markdown",
   "metadata": {},
   "source": [
    "### Observations\n",
    "1.By looking ROC curve of Training FPR and TPR it looks sensible as it is greater than diagonal line \n",
    "\n",
    "2.By looking ROC curve of Test FPR and TPR is sensible .Model is generalize model"
   ]
  },
  {
   "cell_type": "markdown",
   "metadata": {},
   "source": [
    "### 4.4 confusion matrix"
   ]
  },
  {
   "cell_type": "code",
   "execution_count": 67,
   "metadata": {},
   "outputs": [
    {
     "name": "stdout",
     "output_type": "stream",
     "text": [
      "====================================================================================================\n",
      "Train confusion matrix\n",
      "[[ 5345  2081]\n",
      " [13085 28530]]\n",
      "====================================================================================================\n",
      "Accuracy score  for Train\n",
      "0.6907485573295814\n",
      "====================================================================================================\n",
      "Test confusion matrix\n",
      "[[ 3821  1638]\n",
      " [11445 19148]]\n",
      "====================================================================================================\n",
      "Accuracy score  for Test\n",
      "0.637107511372462\n",
      "====================================================================================================\n"
     ]
    }
   ],
   "source": [
    "from sklearn.metrics import accuracy_score \n",
    "from sklearn.metrics import classification_report\n",
    "\n",
    "y_train_predicted_withthroshold=predict(y_train_pred, tr_thresholds, train_fpr, train_tpr)\n",
    "y_test_predicted_withthroshold=predict(y_test_pred, tr_thresholds, test_fpr, test_tpr)\n",
    "\n",
    "cm_train=confusion_matrix(Y_train,y_train_predicted_withthroshold,labels=[0, 1])\n",
    "\n",
    "\n",
    "\n",
    "print(\"=\"*100)\n",
    "from sklearn.metrics import confusion_matrix\n",
    "print(\"Train confusion matrix\")\n",
    "print(cm_train)\n",
    "print(\"=\"*100)\n",
    "print(\"Accuracy score  for Train\")\n",
    "print(accuracy_score(Y_train, predict(y_train_pred, tr_thresholds, train_fpr, train_tpr)))\n",
    "print(\"=\"*100)\n",
    "\n",
    "cm_test=confusion_matrix(Y_test,y_test_predicted_withthroshold,labels=[0, 1])\n",
    "\n",
    "print(\"Test confusion matrix\")\n",
    "print(cm_test)\n",
    "print(\"=\"*100)\n",
    "print(\"Accuracy score  for Test\")\n",
    "accuracy_score_avgw2v=accuracy_score(Y_test, predict(y_test_pred, tr_thresholds, test_fpr, test_tpr))\n",
    "print(accuracy_score_avgw2v)\n",
    "print(\"=\"*100)"
   ]
  },
  {
   "cell_type": "code",
   "execution_count": 68,
   "metadata": {},
   "outputs": [
    {
     "name": "stdout",
     "output_type": "stream",
     "text": [
      "confusion matrix for train data\n",
      "====================================================================================================\n"
     ]
    },
    {
     "data": {
      "image/png": "[encoded data removed]",
      "text/plain": [
       "<Figure size 432x288 with 1 Axes>"
      ]
     },
     "metadata": {
      "needs_background": "light"
     },
     "output_type": "display_data"
    },
    {
     "name": "stdout",
     "output_type": "stream",
     "text": [
      "confusion matrix for Test data\n",
      "====================================================================================================\n"
     ]
    },
    {
     "data": {
      "image/png": "[encoded data removed]",
      "text/plain": [
       "<Figure size 432x288 with 1 Axes>"
      ]
     },
     "metadata": {
      "needs_background": "light"
     },
     "output_type": "display_data"
    }
   ],
   "source": [
    "print(\"confusion matrix for train data\")\n",
    "print(\"=\"*100)\n",
    "myplot_matrix1(cm_train)\n",
    "print(\"confusion matrix for Test data\")\n",
    "\n",
    "print(\"=\"*100)\n",
    "myplot_matrix1(cm_test)"
   ]
  },
  {
   "cell_type": "markdown",
   "metadata": {},
   "source": [
    "### observations\n",
    "\n",
    "1.TN and TP of train data and test data is higher.\n",
    "\n",
    "2.Accuracy score on train data is 71% and test data is 65%.\n",
    "\n",
    "3.TPR rate of test data is91% .FPR rate of test data is 74%.TPR rate of test data is more than FPR rate of test data\n",
    "\n",
    "4.TNR rate of testdata is 25% .FNR of test data is 8%.TNR rate of test data is more than FNR rate of test data."
   ]
  },
  {
   "cell_type": "markdown",
   "metadata": {},
   "source": [
    "## 5. SVM on AVGW2V"
   ]
  },
  {
   "cell_type": "markdown",
   "metadata": {},
   "source": [
    "### 5.1 Avgw2v:Concatinating all the features"
   ]
  },
  {
   "cell_type": "code",
   "execution_count": 69,
   "metadata": {},
   "outputs": [
    {
     "name": "stdout",
     "output_type": "stream",
     "text": [
      "Final Data matrix\n",
      "(49041, 703) (49041,)\n",
      "(24155, 703) (24155,)\n",
      "(36052, 703) (36052,)\n",
      "====================================================================================================\n"
     ]
    }
   ],
   "source": [
    "X_tr_avgw2v=hstack((Text_avg_w2v_train_essay,Text_avg_w2v_train_title,X_train_state_ohe,X_train_clean_categories_ohe,X_train_clean_subcategories_ohe,X_train_grade_ohe,X_train_teacher_ohe,X_train_quantity_norm,X_train_TPPP_norm,X_train_price_norm)).tocsr()\n",
    "X_cr_avgw2v=hstack((Text_avg_w2v_cv_essay,Text_avg_w2v_cv_title,X_cv_state_ohe,X_cv_clean_categories_ohe,X_cv_clean_subcategories_ohe,X_cv_grade_ohe,X_cv_teacher_ohe,X_cv_quantity_norm,X_cv_TPPP_norm,X_cv_price_norm)).tocsr()\n",
    "X_te_avgw2v=hstack((Text_avg_w2v_test_essay,Text_avg_w2v_test_title,X_test_state_ohe,X_test_clean_categories_ohe,X_test_clean_subcategories_ohe,X_test_grade_ohe,X_test_teacher_ohe,X_test_quantity_norm,X_test_TPPP_norm,X_test_price_norm)).tocsr()\n",
    "\n",
    "print(\"Final Data matrix\")\n",
    "print(X_tr_avgw2v.shape, Y_train.shape)\n",
    "print(X_cr_avgw2v.shape, Y_cv.shape)\n",
    "print(X_te_avgw2v.shape, Y_test.shape)\n",
    "print(\"=\"*100)"
   ]
  },
  {
   "cell_type": "markdown",
   "metadata": {},
   "source": [
    "### 5.2 Hyper parameter Tuning:simple for loop for Train and cross validation"
   ]
  },
  {
   "cell_type": "code",
   "execution_count": 70,
   "metadata": {},
   "outputs": [
    {
     "name": "stdout",
     "output_type": "stream",
     "text": [
      "Fitting 3 folds for each of 16 candidates, totalling 48 fits\n"
     ]
    },
    {
     "name": "stderr",
     "output_type": "stream",
     "text": [
      "[Parallel(n_jobs=-1)]: Using backend LokyBackend with 4 concurrent workers.\n",
      "[Parallel(n_jobs=-1)]: Done  48 out of  48 | elapsed:   56.9s finished\n"
     ]
    },
    {
     "name": "stdout",
     "output_type": "stream",
     "text": [
      "BEST ALPHA:  0.0001  BEST SCORE:  0.6897824849133843 BEST REGULARIZER:  l1\n"
     ]
    },
    {
     "data": {
      "image/png": "[encoded data removed]",
      "text/plain": [
       "<Figure size 720x360 with 1 Axes>"
      ]
     },
     "metadata": {
      "needs_background": "light"
     },
     "output_type": "display_data"
    }
   ],
   "source": [
    "import matplotlib.pyplot as plt\n",
    "from sklearn.neighbors import KNeighborsClassifier\n",
    "from sklearn.metrics import roc_auc_score\n",
    "\n",
    "train_auc = []\n",
    "cv_auc = []\n",
    "\n",
    "\n",
    "\n",
    "svm_avgw2v = SGDClassifier(loss='hinge',class_weight=\"balanced\")\n",
    "parameters = {'alpha':[0.0001,0.001,0.01,0.1,1,10,100,1000],'penalty':['l1','l2']}\n",
    "\n",
    "clf = GridSearchCV(svm_avgw2v, parameters, cv= 3, scoring='roc_auc',verbose=1,return_train_score=True,n_jobs=-1)\n",
    "\n",
    "\n",
    "clf.fit(X_tr_avgw2v,Y_train)\n",
    "\n",
    "\n",
    "train_auc= clf.cv_results_['mean_train_score']\n",
    "train_auc_std= clf.cv_results_['std_train_score']\n",
    "cv_auc = clf.cv_results_['mean_test_score']\n",
    "cv_auc_std= clf.cv_results_['std_test_score']\n",
    "\n",
    "bestAlpha_1=clf.best_params_['alpha']\n",
    "bestPenalty_1=clf.best_params_['penalty']\n",
    "bestScore_1=clf.best_score_\n",
    "\n",
    "\n",
    "bestAlpha_avgw2v=bestAlpha_1\n",
    "bestPenalty_avgw2v=bestPenalty_1\n",
    "bestScore_avgw2v=bestScore_1\n",
    "\n",
    "\n",
    "\n",
    "print(\"BEST ALPHA: \",clf.best_params_['alpha'],\" BEST SCORE: \",clf.best_score_,\"BEST REGULARIZER: \",clf.best_params_['penalty']) #clf.best_estimator_.alpha\n",
    "\n",
    "\n",
    "alphas = [0.0001,0.001,0.01,0.1,1,10,100,1000]\n",
    "\n",
    "train_auc_l1=[train_auc[i] for i in range(0,len(train_auc),2)] #range(start, stop, step)\n",
    "train_auc_l2=[train_auc[i] for i in range(1,len(train_auc),2)]\n",
    "\n",
    "cv_auc_l1=[cv_auc[i] for i in range(0,len(cv_auc),2)]\n",
    "cv_auc_l2=[cv_auc[i] for i in range(1,len(cv_auc),2)]\n",
    "\n",
    "\n",
    "    \n",
    "plt.figure(figsize=(10,5))\n",
    "plt.plot(np.log10(alphas), train_auc_l1, label='Train AUC L1')\n",
    "plt.plot(np.log10(alphas), train_auc_l2, label='Train AUC L2')\n",
    "plt.plot(np.log10(alphas), cv_auc_l1, label='CV AUC L1')\n",
    "plt.plot(np.log10(alphas), cv_auc_l2, label='CV AUC L2')\n",
    "\n",
    "plt.scatter(np.log10(alphas), train_auc_l1, label='Train AUC L1 points')\n",
    "plt.scatter(np.log10(alphas), train_auc_l2, label='Train AUC L2 points')\n",
    "plt.scatter(np.log10(alphas), cv_auc_l1, label='CV AUC L1 points')\n",
    "plt.scatter(np.log10(alphas), cv_auc_l2, label='CV AUC L2 points')\n",
    "plt.legend()\n",
    "plt.xlabel(\"Alpha: Hyperparameter\")\n",
    "plt.ylabel(\"AUC\")\n",
    "plt.title(\"Alpha: Hyperparameter v/s AUC\")\n",
    "plt.grid()\n",
    "plt.show()\n",
    "\n",
    "\n",
    "\n"
   ]
  },
  {
   "cell_type": "markdown",
   "metadata": {},
   "source": [
    "#### Observations\n",
    "\n",
    "1.By observing plot of auc score of train and cross validation we understand alpha=0.0001 is best hyperparameter as cross validation auc is very high and does not cause overfit and underfit at alpha=0.0001."
   ]
  },
  {
   "cell_type": "markdown",
   "metadata": {},
   "source": [
    "### 5.3 ROC curve with best lambda"
   ]
  },
  {
   "cell_type": "code",
   "execution_count": 71,
   "metadata": {},
   "outputs": [
    {
     "data": {
      "image/png": "[encoded data removed]",
      "text/plain": [
       "<Figure size 432x288 with 1 Axes>"
      ]
     },
     "metadata": {
      "needs_background": "light"
     },
     "output_type": "display_data"
    }
   ],
   "source": [
    "\n",
    "svm_avgw2v_testModel = SGDClassifier(loss='hinge',penalty=bestPenalty_1,alpha=bestAlpha_1,class_weight=\"balanced\")\n",
    "svm_avgw2v_testModel.fit(X_tr_avgw2v,Y_train)\n",
    "\n",
    "y_train_pred=svm_avgw2v_testModel.decision_function(X_tr_avgw2v)\n",
    "y_test_pred=svm_avgw2v_testModel.decision_function(X_te_avgw2v)\n",
    "\n",
    "train_fpr, train_tpr, tr_thresholds = roc_curve(Y_train, y_train_pred)\n",
    "test_fpr, test_tpr, te_thresholds = roc_curve(Y_test, y_test_pred)\n",
    "\n",
    "ax = plt.subplot()\n",
    "\n",
    "auc_set1_train=auc(train_fpr, train_tpr)\n",
    "auc_set1_test=auc(test_fpr, test_tpr)\n",
    "\n",
    "\n",
    "ax.plot(train_fpr, train_tpr, label=\"Train AUC =\"+str(auc(train_fpr, train_tpr)))\n",
    "ax.plot(test_fpr, test_tpr, label=\"Test AUC =\"+str(auc(test_fpr, test_tpr)))\n",
    "plt.legend()\n",
    "plt.xlabel(\"False Positive Rate(FPR)\")\n",
    "plt.ylabel(\"True Positive Rate(TPR)\")\n",
    "plt.title(\"AUC\")\n",
    "plt.grid(b=True, which='major', color='k', linestyle=':')\n",
    "ax.set_facecolor(\"white\")\n",
    "plt.show()"
   ]
  },
  {
   "cell_type": "markdown",
   "metadata": {},
   "source": [
    "#### Observations\n",
    "1.By looking ROC curve of Training FPR and TPR it looks sensible as it is greater than diagonal line \n",
    "\n",
    "2.By looking ROC curve of Test FPR and TPR is sensible .Model is generalize model"
   ]
  },
  {
   "cell_type": "markdown",
   "metadata": {},
   "source": [
    "### 5.4 confusion matrix"
   ]
  },
  {
   "cell_type": "code",
   "execution_count": 72,
   "metadata": {},
   "outputs": [
    {
     "name": "stdout",
     "output_type": "stream",
     "text": [
      "====================================================================================================\n",
      "Train confusion matrix\n",
      "[[ 4984  2442]\n",
      " [13765 27850]]\n",
      "====================================================================================================\n",
      "Accuracy score  for Train\n",
      "0.6695214208519402\n",
      "====================================================================================================\n",
      "Test confusion matrix\n",
      "[[ 3841  1618]\n",
      " [12669 17924]]\n",
      "====================================================================================================\n",
      "Accuracy score  for Test\n",
      "0.60371130589149\n",
      "====================================================================================================\n"
     ]
    }
   ],
   "source": [
    "from sklearn.metrics import accuracy_score \n",
    "from sklearn.metrics import classification_report\n",
    "\n",
    "y_train_predicted_withthroshold=predict(y_train_pred, tr_thresholds, train_fpr, train_tpr)\n",
    "y_test_predicted_withthroshold=predict(y_test_pred, tr_thresholds, test_fpr, test_tpr)\n",
    "\n",
    "cm_train=confusion_matrix(Y_train,y_train_predicted_withthroshold,labels=[0, 1])\n",
    "\n",
    "\n",
    "\n",
    "print(\"=\"*100)\n",
    "from sklearn.metrics import confusion_matrix\n",
    "print(\"Train confusion matrix\")\n",
    "print(cm_train)\n",
    "print(\"=\"*100)\n",
    "print(\"Accuracy score  for Train\")\n",
    "print(accuracy_score(Y_train, predict(y_train_pred, tr_thresholds, train_fpr, train_tpr)))\n",
    "print(\"=\"*100)\n",
    "\n",
    "cm_test=confusion_matrix(Y_test,y_test_predicted_withthroshold,labels=[0, 1])\n",
    "\n",
    "print(\"Test confusion matrix\")\n",
    "print(cm_test)\n",
    "print(\"=\"*100)\n",
    "print(\"Accuracy score  for Test\")\n",
    "accuracy_score_avgw2v=accuracy_score(Y_test, predict(y_test_pred, tr_thresholds, test_fpr, test_tpr))\n",
    "print(accuracy_score_avgw2v)\n",
    "print(\"=\"*100)"
   ]
  },
  {
   "cell_type": "code",
   "execution_count": 73,
   "metadata": {},
   "outputs": [
    {
     "name": "stdout",
     "output_type": "stream",
     "text": [
      "confusion matrix for train data\n",
      "====================================================================================================\n"
     ]
    },
    {
     "data": {
      "image/png": "[encoded data removed]",
      "text/plain": [
       "<Figure size 432x288 with 1 Axes>"
      ]
     },
     "metadata": {
      "needs_background": "light"
     },
     "output_type": "display_data"
    },
    {
     "name": "stdout",
     "output_type": "stream",
     "text": [
      "confusion matrix for Test data\n",
      "====================================================================================================\n"
     ]
    },
    {
     "data": {
      "image/png": "[encoded data removed]",
      "text/plain": [
       "<Figure size 432x288 with 1 Axes>"
      ]
     },
     "metadata": {
      "needs_background": "light"
     },
     "output_type": "display_data"
    }
   ],
   "source": [
    "print(\"confusion matrix for train data\")\n",
    "print(\"=\"*100)\n",
    "myplot_matrix1(cm_train)\n",
    "print(\"confusion matrix for Test data\")\n",
    "\n",
    "print(\"=\"*100)\n",
    "myplot_matrix1(cm_test)"
   ]
  },
  {
   "cell_type": "markdown",
   "metadata": {},
   "source": [
    "#### observations\n",
    "1.TN and TP of train data and test data is higher.\n",
    "\n",
    "2.Accuracy score on train data is 69% and test data is 59%.\n",
    "\n",
    "3.TPR rate of test data is 91% .FPR rate of test data is 77%.TPR rate of test data is more than FPR rate of test data\n",
    "\n",
    "4.TNR rate of testdata is 22% .FNR of test data is 8%.TNR rate of test data is more than FNR rate of test data.\n"
   ]
  },
  {
   "cell_type": "markdown",
   "metadata": {},
   "source": [
    "## 6. SVM on TFIDF W2V"
   ]
  },
  {
   "cell_type": "markdown",
   "metadata": {},
   "source": [
    "### 6.1 TFIDF:Concatinating all the features"
   ]
  },
  {
   "cell_type": "code",
   "execution_count": 74,
   "metadata": {},
   "outputs": [
    {
     "name": "stdout",
     "output_type": "stream",
     "text": [
      "Final Data matrix\n",
      "(49041, 703) (49041,)\n",
      "(24155, 703) (24155,)\n",
      "(36052, 703) (36052,)\n",
      "====================================================================================================\n"
     ]
    }
   ],
   "source": [
    "X_tr_tfidfw2v=hstack((Text_tfidf_w2v_train_essay,Text_tfidf_w2v_train_title,X_train_state_ohe,X_train_clean_categories_ohe,X_train_clean_subcategories_ohe,X_train_grade_ohe,X_train_teacher_ohe,X_train_quantity_norm,X_train_TPPP_norm,X_train_price_norm)).tocsr()\n",
    "X_cr_tfidfw2v=hstack((Text_tfidf_w2v_cv_essay,Text_tfidf_w2v_cv_title,X_cv_state_ohe,X_cv_clean_categories_ohe,X_cv_clean_subcategories_ohe,X_cv_grade_ohe,X_cv_teacher_ohe,X_cv_quantity_norm,X_cv_TPPP_norm,X_cv_price_norm)).tocsr()\n",
    "X_te_tfidfw2v=hstack((Text_tfidf_w2v_test_essay,Text_tfidf_w2v_test_title,X_test_state_ohe,X_test_clean_categories_ohe,X_test_clean_subcategories_ohe,X_test_grade_ohe,X_test_teacher_ohe,X_test_quantity_norm,X_test_TPPP_norm,X_test_price_norm)).tocsr()\n",
    "\n",
    "print(\"Final Data matrix\")\n",
    "print(X_tr_tfidfw2v.shape, Y_train.shape)\n",
    "print(X_cr_tfidfw2v.shape, Y_cv.shape)\n",
    "print(X_te_tfidfw2v.shape, Y_test.shape)\n",
    "print(\"=\"*100)"
   ]
  },
  {
   "cell_type": "markdown",
   "metadata": {},
   "source": [
    "### 6.2 Hyper parameter Tuning:simple for loop for Train and cross validation"
   ]
  },
  {
   "cell_type": "code",
   "execution_count": 75,
   "metadata": {},
   "outputs": [
    {
     "name": "stdout",
     "output_type": "stream",
     "text": [
      "Fitting 3 folds for each of 16 candidates, totalling 48 fits\n"
     ]
    },
    {
     "name": "stderr",
     "output_type": "stream",
     "text": [
      "[Parallel(n_jobs=-1)]: Using backend LokyBackend with 4 concurrent workers.\n",
      "[Parallel(n_jobs=-1)]: Done  48 out of  48 | elapsed:   36.6s finished\n"
     ]
    },
    {
     "name": "stdout",
     "output_type": "stream",
     "text": [
      "BEST ALPHA:  0.001  BEST SCORE:  0.6863009515526851 BEST REGULARIZER:  l2\n"
     ]
    },
    {
     "data": {
      "image/png": "[encoded data removed]",
      "text/plain": [
       "<Figure size 720x360 with 1 Axes>"
      ]
     },
     "metadata": {
      "needs_background": "light"
     },
     "output_type": "display_data"
    }
   ],
   "source": [
    "import matplotlib.pyplot as plt\n",
    "from sklearn.neighbors import KNeighborsClassifier\n",
    "from sklearn.metrics import roc_auc_score\n",
    "\n",
    "train_auc = []\n",
    "cv_auc = []\n",
    "\n",
    "\n",
    "\n",
    "svm_tfidfw2v = SGDClassifier(loss='hinge',class_weight=\"balanced\")\n",
    "parameters = {'alpha':[0.0001,0.001,0.01,0.1,1,10,100,1000],'penalty':['l1','l2']}\n",
    "\n",
    "clf = GridSearchCV(svm_tfidfw2v, parameters, cv= 3, scoring='roc_auc',verbose=1,return_train_score=True,n_jobs=-1)\n",
    "\n",
    "\n",
    "clf.fit(X_tr_tfidfw2v,Y_train)\n",
    "\n",
    "\n",
    "train_auc= clf.cv_results_['mean_train_score']\n",
    "train_auc_std= clf.cv_results_['std_train_score']\n",
    "cv_auc = clf.cv_results_['mean_test_score']\n",
    "cv_auc_std= clf.cv_results_['std_test_score']\n",
    "\n",
    "bestAlpha_1=clf.best_params_['alpha']\n",
    "bestPenalty_1=clf.best_params_['penalty']\n",
    "bestScore_1=clf.best_score_\n",
    "\n",
    "bestAlpha_tfidfw2v=bestAlpha_1\n",
    "bestPenalty_tfidfw2v=bestPenalty_1\n",
    "bestScore_tfidfw2v=bestScore_1\n",
    "\n",
    "\n",
    "\n",
    "print(\"BEST ALPHA: \",clf.best_params_['alpha'],\" BEST SCORE: \",clf.best_score_,\"BEST REGULARIZER: \",clf.best_params_['penalty']) #clf.best_estimator_.alpha\n",
    "\n",
    "\n",
    "alphas = [0.0001,0.001,0.01,0.1,1,10,100,1000]\n",
    "\n",
    "train_auc_l1=[train_auc[i] for i in range(0,len(train_auc),2)] #range(start, stop, step)\n",
    "train_auc_l2=[train_auc[i] for i in range(1,len(train_auc),2)]\n",
    "\n",
    "cv_auc_l1=[cv_auc[i] for i in range(0,len(cv_auc),2)]\n",
    "cv_auc_l2=[cv_auc[i] for i in range(1,len(cv_auc),2)]\n",
    "\n",
    "\n",
    "    \n",
    "plt.figure(figsize=(10,5))\n",
    "plt.plot(np.log10(alphas), train_auc_l1, label='Train AUC L1')\n",
    "plt.plot(np.log10(alphas), train_auc_l2, label='Train AUC L2')\n",
    "plt.plot(np.log10(alphas), cv_auc_l1, label='CV AUC L1')\n",
    "plt.plot(np.log10(alphas), cv_auc_l2, label='CV AUC L2')\n",
    "\n",
    "plt.scatter(np.log10(alphas), train_auc_l1, label='Train AUC L1 points')\n",
    "plt.scatter(np.log10(alphas), train_auc_l2, label='Train AUC L2 points')\n",
    "plt.scatter(np.log10(alphas), cv_auc_l1, label='CV AUC L1 points')\n",
    "plt.scatter(np.log10(alphas), cv_auc_l2, label='CV AUC L2 points')\n",
    "plt.legend()\n",
    "plt.xlabel(\"Alpha: Hyperparameter\")\n",
    "plt.ylabel(\"AUC\")\n",
    "plt.title(\"Alpha: Hyperparameter v/s AUC\")\n",
    "plt.grid()\n",
    "plt.show()\n"
   ]
  },
  {
   "cell_type": "markdown",
   "metadata": {},
   "source": [
    "#### Observations\n",
    "\n",
    "1.By observing plot of auc score of train and cross validation we understand alpha=0.001 is best hyperparameter as cross validation auc is very high and does not cause overfit and underfit at alpha=0.001."
   ]
  },
  {
   "cell_type": "markdown",
   "metadata": {},
   "source": [
    "### 6.3 ROC curve with best lambda"
   ]
  },
  {
   "cell_type": "code",
   "execution_count": 76,
   "metadata": {},
   "outputs": [
    {
     "data": {
      "image/png": "[encoded data removed]",
      "text/plain": [
       "<Figure size 432x288 with 1 Axes>"
      ]
     },
     "metadata": {
      "needs_background": "light"
     },
     "output_type": "display_data"
    }
   ],
   "source": [
    "\n",
    "svm_tfidfw2v_testModel = SGDClassifier(loss='hinge',penalty=bestPenalty_1,alpha=bestAlpha_1,class_weight=\"balanced\")\n",
    "svm_tfidfw2v_testModel.fit(X_tr_tfidfw2v,Y_train)\n",
    "\n",
    "y_train_pred=svm_tfidfw2v_testModel.decision_function(X_tr_tfidfw2v)\n",
    "y_test_pred=svm_tfidfw2v_testModel.decision_function(X_te_tfidfw2v)\n",
    "\n",
    "train_fpr, train_tpr, tr_thresholds = roc_curve(Y_train, y_train_pred)\n",
    "test_fpr, test_tpr, te_thresholds = roc_curve(Y_test, y_test_pred)\n",
    "\n",
    "ax = plt.subplot()\n",
    "\n",
    "auc_set1_train=auc(train_fpr, train_tpr)\n",
    "auc_set1_test=auc(test_fpr, test_tpr)\n",
    "\n",
    "\n",
    "ax.plot(train_fpr, train_tpr, label=\"Train AUC =\"+str(auc(train_fpr, train_tpr)))\n",
    "ax.plot(test_fpr, test_tpr, label=\"Test AUC =\"+str(auc(test_fpr, test_tpr)))\n",
    "plt.legend()\n",
    "plt.xlabel(\"False Positive Rate(FPR)\")\n",
    "plt.ylabel(\"True Positive Rate(TPR)\")\n",
    "plt.title(\"AUC\")\n",
    "plt.grid(b=True, which='major', color='k', linestyle=':')\n",
    "ax.set_facecolor(\"white\")\n",
    "plt.show()"
   ]
  },
  {
   "cell_type": "markdown",
   "metadata": {},
   "source": [
    "#### Observations\n",
    "1.By looking ROC curve of Training FPR and TPR it looks sensible as it is greater than diagonal line \n",
    "\n",
    "2.By looking ROC curve of Test FPR and TPR is sensible .Model is generalize model"
   ]
  },
  {
   "cell_type": "markdown",
   "metadata": {},
   "source": [
    "### 6.4 confusion matrix"
   ]
  },
  {
   "cell_type": "code",
   "execution_count": 77,
   "metadata": {},
   "outputs": [
    {
     "name": "stdout",
     "output_type": "stream",
     "text": [
      "====================================================================================================\n",
      "Train confusion matrix\n",
      "[[ 4941  2485]\n",
      " [13923 27692]]\n",
      "====================================================================================================\n",
      "Accuracy score  for Train\n",
      "0.6654228094859403\n",
      "====================================================================================================\n",
      "Test confusion matrix\n",
      "[[ 3947  1512]\n",
      " [13618 16975]]\n",
      "====================================================================================================\n",
      "Accuracy score  for Test\n",
      "0.580328414512371\n",
      "====================================================================================================\n"
     ]
    }
   ],
   "source": [
    "from sklearn.metrics import accuracy_score \n",
    "from sklearn.metrics import classification_report\n",
    "\n",
    "y_train_predicted_withthroshold=predict(y_train_pred, tr_thresholds, train_fpr, train_tpr)\n",
    "y_test_predicted_withthroshold=predict(y_test_pred, tr_thresholds, test_fpr, test_tpr)\n",
    "\n",
    "cm_train=confusion_matrix(Y_train,y_train_predicted_withthroshold,labels=[0, 1])\n",
    "\n",
    "\n",
    "\n",
    "print(\"=\"*100)\n",
    "from sklearn.metrics import confusion_matrix\n",
    "print(\"Train confusion matrix\")\n",
    "print(cm_train)\n",
    "print(\"=\"*100)\n",
    "print(\"Accuracy score  for Train\")\n",
    "print(accuracy_score(Y_train, predict(y_train_pred, tr_thresholds, train_fpr, train_tpr)))\n",
    "print(\"=\"*100)\n",
    "\n",
    "cm_test=confusion_matrix(Y_test,y_test_predicted_withthroshold,labels=[0, 1])\n",
    "\n",
    "print(\"Test confusion matrix\")\n",
    "print(cm_test)\n",
    "print(\"=\"*100)\n",
    "print(\"Accuracy score  for Test\")\n",
    "accuracy_score_tfidfw2v=accuracy_score(Y_test, predict(y_test_pred, tr_thresholds, test_fpr, test_tpr))\n",
    "print(accuracy_score_tfidfw2v)\n",
    "print(\"=\"*100)\n"
   ]
  },
  {
   "cell_type": "code",
   "execution_count": 78,
   "metadata": {},
   "outputs": [
    {
     "name": "stdout",
     "output_type": "stream",
     "text": [
      "confusion matrix for train data\n",
      "====================================================================================================\n"
     ]
    },
    {
     "data": {
      "image/png": "[encoded data removed]",
      "text/plain": [
       "<Figure size 432x288 with 1 Axes>"
      ]
     },
     "metadata": {
      "needs_background": "light"
     },
     "output_type": "display_data"
    },
    {
     "name": "stdout",
     "output_type": "stream",
     "text": [
      "confusion matrix for Test data\n",
      "====================================================================================================\n"
     ]
    },
    {
     "data": {
      "image/png": "[encoded data removed]",
      "text/plain": [
       "<Figure size 432x288 with 1 Axes>"
      ]
     },
     "metadata": {
      "needs_background": "light"
     },
     "output_type": "display_data"
    }
   ],
   "source": [
    "print(\"confusion matrix for train data\")\n",
    "print(\"=\"*100)\n",
    "myplot_matrix1(cm_train)\n",
    "print(\"confusion matrix for Test data\")\n",
    "\n",
    "print(\"=\"*100)\n",
    "myplot_matrix1(cm_test)"
   ]
  },
  {
   "cell_type": "markdown",
   "metadata": {},
   "source": [
    "#### observations\n",
    "1.TN and TP of train data and test data is higher.\n",
    "\n",
    "2.Accuracy score on train data is 69% and test data is 56%.\n",
    "\n",
    "3.TPR rate of test data is 92% .FPR rate of test data is 77%.TPR rate of test data is more than FPR rate of test data\n",
    "\n",
    "4.TNR rate of testdata is 22% .FNR of test data is 7%.TNR rate of test data is more than FNR rate of test data.\n"
   ]
  },
  {
   "cell_type": "markdown",
   "metadata": {},
   "source": [
    "## 7.Considering new features for analysis"
   ]
  },
  {
   "cell_type": "markdown",
   "metadata": {},
   "source": [
    "### 7.1 sentmental analysis"
   ]
  },
  {
   "cell_type": "code",
   "execution_count": 79,
   "metadata": {},
   "outputs": [
    {
     "name": "stdout",
     "output_type": "stream",
     "text": [
      "After vectorizations\n",
      "(49041, 1) (49041,)\n",
      "(24155, 1) (24155,)\n",
      "(36052, 1) (36052,)\n",
      "====================================================================================================\n"
     ]
    }
   ],
   "source": [
    "\n",
    "X_train_essay_sentiment_neg = X_train['neg'].values.reshape(-1,1)\n",
    "X_train_essay_sentiment_neu = X_train['neu'].values.reshape(-1,1)\n",
    "X_train_essay_sentiment_pos = X_train['pos'].values.reshape(-1,1)\n",
    "X_train_essay_sentiment_compound = X_train['compound'].values.reshape(-1,1)\n",
    "\n",
    "X_cv_essay_sentiment_neg = X_cv['neg'].values.reshape(-1,1)\n",
    "X_cv_essay_sentiment_neu = X_cv['neu'].values.reshape(-1,1)\n",
    "X_cv_essay_sentiment_pos = X_cv['pos'].values.reshape(-1,1)\n",
    "X_cv_essay_sentiment_compound = X_cv['compound'].values.reshape(-1,1)\n",
    "\n",
    "X_test_essay_sentiment_neg = X_test['neg'].values.reshape(-1,1)\n",
    "X_test_essay_sentiment_neu = X_test['neu'].values.reshape(-1,1)\n",
    "X_test_essay_sentiment_pos = X_test['pos'].values.reshape(-1,1)\n",
    "X_test_essay_sentiment_compound = X_test['compound'].values.reshape(-1,1)\n",
    "\n",
    "\n",
    "print(\"After vectorizations\")\n",
    "print(X_train_essay_sentiment_neg.shape, Y_train.shape)\n",
    "print(X_cv_essay_sentiment_neg.shape, Y_cv.shape)\n",
    "print(X_test_essay_sentiment_neg.shape, Y_test.shape)\n",
    "\n",
    "\n",
    "print(\"=\"*100)"
   ]
  },
  {
   "cell_type": "markdown",
   "metadata": {},
   "source": [
    "### 7.2 Dimensionality reduction with TruncatedSVD"
   ]
  },
  {
   "cell_type": "code",
   "execution_count": 80,
   "metadata": {},
   "outputs": [
    {
     "name": "stderr",
     "output_type": "stream",
     "text": [
      "100%|██████████| 13/13 [19:11<00:00, 88.55s/it] \n"
     ]
    }
   ],
   "source": [
    "from sklearn.decomposition import TruncatedSVD\n",
    "dimensions=[4,16,64,128,256,500,1000,1500,1600,1700,1800,1900,1999]\n",
    "variance_sum=[]\n",
    "for i in tqdm(dimensions):\n",
    "    svd_truncated = TruncatedSVD(n_components=i, n_iter=5)\n",
    "    svd_truncated.fit(X_train_essay_tfidf)\n",
    "    variance_sum.append(svd_truncated.explained_variance_ratio_.sum())\n",
    "\n"
   ]
  },
  {
   "cell_type": "code",
   "execution_count": 81,
   "metadata": {},
   "outputs": [
    {
     "data": {
      "image/png": "[encoded data removed]",
      "text/plain": [
       "<Figure size 432x288 with 1 Axes>"
      ]
     },
     "metadata": {
      "needs_background": "light"
     },
     "output_type": "display_data"
    }
   ],
   "source": [
    "plt.xlabel(\"Number of Components\")\n",
    "plt.ylabel(\"Percentage of Variance Explained\")\n",
    "plt.title(\"Variance Explained v/s Number of Components\")\n",
    "plt.plot(dimensions,variance_sum,lw=2)\n",
    "plt.show()\n",
    "\n",
    "\n"
   ]
  },
  {
   "cell_type": "markdown",
   "metadata": {},
   "source": [
    "### 7.3 reduction of features"
   ]
  },
  {
   "cell_type": "code",
   "execution_count": 82,
   "metadata": {},
   "outputs": [
    {
     "name": "stdout",
     "output_type": "stream",
     "text": [
      "After dimensionality reduction\n",
      "(49041, 1500) (49041,)\n",
      "(24155, 1500) (24155,)\n",
      "(36052, 1500) (36052,)\n",
      "====================================================================================================\n"
     ]
    }
   ],
   "source": [
    "bestdim=1500\n",
    "svd = TruncatedSVD(n_components=bestdim, n_iter=5)\n",
    "svd.fit(X_train_essay_tfidf)\n",
    "x_train_essays_tfidf_svd=svd.transform(X_train_essay_tfidf)\n",
    "x_cv_essay_tfidf_svd=svd.transform(X_cv_essay_tfidf)\n",
    "x_test_essays_tfidf_svd=svd.transform(X_test_essay_tfidf)\n",
    "\n",
    "print(\"After dimensionality reduction\")\n",
    "print(x_train_essays_tfidf_svd.shape, Y_train.shape)\n",
    "print(x_cv_essay_tfidf_svd.shape, Y_cv.shape)\n",
    "print(x_test_essays_tfidf_svd.shape, Y_test.shape)\n",
    "\n",
    "\n",
    "print(\"=\"*100)"
   ]
  },
  {
   "cell_type": "code",
   "execution_count": 83,
   "metadata": {},
   "outputs": [
    {
     "name": "stdout",
     "output_type": "stream",
     "text": [
      "Final Data matrix\n",
      "(49041, 1609) (49041,)\n",
      "(36052, 1609) (24155,)\n",
      "(24155, 1609) (36052,)\n",
      "====================================================================================================\n"
     ]
    }
   ],
   "source": [
    "from scipy.sparse import hstack\n",
    "X_tr_newfeatures=hstack((x_train_essays_tfidf_svd,X_train_state_ohe,X_train_clean_categories_ohe,X_train_clean_subcategories_ohe,X_train_grade_ohe,X_train_teacher_ohe,X_train_quantity_norm,X_train_TPPP_norm,X_train_price_norm,X_train_totalwords_title_norm,X_train_totalwords_essay_norm,X_train_essay_sentiment_neg,X_train_essay_sentiment_neu,X_train_essay_sentiment_pos,X_train_essay_sentiment_compound)).tocsr()\n",
    "X_te_newfeatures=hstack((x_test_essays_tfidf_svd,X_test_state_ohe,X_test_clean_categories_ohe,X_test_clean_subcategories_ohe,X_test_grade_ohe,X_test_teacher_ohe,X_test_quantity_norm,X_test_TPPP_norm,X_test_price_norm,X_test_totalwords_title_norm,X_test_totalwords_essay_norm,X_test_essay_sentiment_neg,X_test_essay_sentiment_neu,X_test_essay_sentiment_pos,X_test_essay_sentiment_compound)).tocsr()\n",
    "X_cv_newfeatures=hstack((x_cv_essay_tfidf_svd,X_cv_state_ohe,X_cv_clean_categories_ohe,X_cv_clean_subcategories_ohe,X_cv_grade_ohe,X_cv_teacher_ohe,X_cv_quantity_norm,X_cv_TPPP_norm,X_cv_price_norm,X_cv_totalwords_title_norm,X_cv_totalwords_essay_norm,X_cv_essay_sentiment_neg,X_cv_essay_sentiment_neu,X_cv_essay_sentiment_pos,X_cv_essay_sentiment_compound)).tocsr()\n",
    "print(\"Final Data matrix\")\n",
    "print(X_tr_newfeatures.shape, Y_train.shape)\n",
    "print(X_te_newfeatures.shape, Y_cv.shape)\n",
    "print(X_cv_newfeatures.shape, Y_test.shape)\n",
    "print(\"=\"*100)          "
   ]
  },
  {
   "cell_type": "markdown",
   "metadata": {},
   "source": [
    "### 7.4 Hyper parameter Tuning:simple for loop for Train and cross validation"
   ]
  },
  {
   "cell_type": "code",
   "execution_count": 84,
   "metadata": {
    "scrolled": true
   },
   "outputs": [
    {
     "name": "stdout",
     "output_type": "stream",
     "text": [
      "Fitting 3 folds for each of 16 candidates, totalling 48 fits\n"
     ]
    },
    {
     "name": "stderr",
     "output_type": "stream",
     "text": [
      "[Parallel(n_jobs=-1)]: Using backend LokyBackend with 4 concurrent workers.\n",
      "[Parallel(n_jobs=-1)]: Done  48 out of  48 | elapsed:  1.9min finished\n"
     ]
    },
    {
     "name": "stdout",
     "output_type": "stream",
     "text": [
      "BEST ALPHA:  0.0001  BEST SCORE:  0.7052392654365356 BEST REGULARIZER:  l2\n"
     ]
    },
    {
     "data": {
      "image/png": "[encoded data removed]",
      "text/plain": [
       "<Figure size 720x360 with 1 Axes>"
      ]
     },
     "metadata": {
      "needs_background": "light"
     },
     "output_type": "display_data"
    }
   ],
   "source": [
    "import matplotlib.pyplot as plt\n",
    "from sklearn.neighbors import KNeighborsClassifier\n",
    "from sklearn.metrics import roc_auc_score\n",
    "\n",
    "train_auc = []\n",
    "cv_auc = []\n",
    "\n",
    "\n",
    "\n",
    "svm_newFetur = SGDClassifier(loss='hinge',class_weight=\"balanced\")\n",
    "parameters = {'alpha':[0.0001,0.001,0.01,0.1,1,10,100,1000],'penalty':['l1','l2']}\n",
    "\n",
    "clf = GridSearchCV(svm_newFetur, parameters, cv= 3, scoring='roc_auc',verbose=1,return_train_score=True,n_jobs=-1)\n",
    "\n",
    "\n",
    "clf.fit(X_tr_newfeatures,Y_train)\n",
    "\n",
    "\n",
    "train_auc= clf.cv_results_['mean_train_score']\n",
    "train_auc_std= clf.cv_results_['std_train_score']\n",
    "cv_auc = clf.cv_results_['mean_test_score']\n",
    "cv_auc_std= clf.cv_results_['std_test_score']\n",
    "\n",
    "bestAlpha_1=clf.best_params_['alpha']\n",
    "bestPenalty_1=clf.best_params_['penalty']\n",
    "bestScore_1=clf.best_score_\n",
    "\n",
    "\n",
    "\n",
    "bestAlpha_newFetur=bestAlpha_1\n",
    "bestPenalty_newFetur=bestPenalty_1\n",
    "bestScore_newFetur=bestScore_1\n",
    "\n",
    "\n",
    "\n",
    "\n",
    "\n",
    "\n",
    "\n",
    "print(\"BEST ALPHA: \",clf.best_params_['alpha'],\" BEST SCORE: \",clf.best_score_,\"BEST REGULARIZER: \",clf.best_params_['penalty']) #clf.best_estimator_.alpha\n",
    "\n",
    "\n",
    "alphas = [0.0001,0.001,0.01,0.1,1,10,100,1000]\n",
    "\n",
    "train_auc_l1=[train_auc[i] for i in range(0,len(train_auc),2)] #range(start, stop, step)\n",
    "train_auc_l2=[train_auc[i] for i in range(1,len(train_auc),2)]\n",
    "\n",
    "cv_auc_l1=[cv_auc[i] for i in range(0,len(cv_auc),2)]\n",
    "cv_auc_l2=[cv_auc[i] for i in range(1,len(cv_auc),2)]\n",
    "\n",
    "\n",
    "    \n",
    "plt.figure(figsize=(10,5))\n",
    "plt.plot(np.log10(alphas), train_auc_l1, label='Train AUC L1')\n",
    "plt.plot(np.log10(alphas), train_auc_l2, label='Train AUC L2')\n",
    "plt.plot(np.log10(alphas), cv_auc_l1, label='CV AUC L1')\n",
    "plt.plot(np.log10(alphas), cv_auc_l2, label='CV AUC L2')\n",
    "\n",
    "plt.scatter(np.log10(alphas), train_auc_l1, label='Train AUC L1 points')\n",
    "plt.scatter(np.log10(alphas), train_auc_l2, label='Train AUC L2 points')\n",
    "plt.scatter(np.log10(alphas), cv_auc_l1, label='CV AUC L1 points')\n",
    "plt.scatter(np.log10(alphas), cv_auc_l2, label='CV AUC L2 points')\n",
    "plt.legend()\n",
    "plt.xlabel(\"Alpha: Hyperparameter\")\n",
    "plt.ylabel(\"AUC\")\n",
    "plt.title(\"Alpha: Hyperparameter v/s AUC\")\n",
    "plt.grid()\n",
    "plt.show()\n",
    "\n",
    "\n"
   ]
  },
  {
   "cell_type": "markdown",
   "metadata": {},
   "source": [
    "#### Observations\n",
    "\n",
    "1.By observing plot of auc score of train and cross validation we understand alpha=0.0001 is best hyperparameter as cross validation auc is very high and does not cause overfit and underfit at alpha=0.0001."
   ]
  },
  {
   "cell_type": "markdown",
   "metadata": {},
   "source": [
    "### 7.5 ROC curve with best lambda"
   ]
  },
  {
   "cell_type": "code",
   "execution_count": 85,
   "metadata": {},
   "outputs": [
    {
     "data": {
      "image/png": "[encoded data removed]",
      "text/plain": [
       "<Figure size 432x288 with 1 Axes>"
      ]
     },
     "metadata": {
      "needs_background": "light"
     },
     "output_type": "display_data"
    }
   ],
   "source": [
    "\n",
    "svm_newfetur_testModel = SGDClassifier(loss='hinge',penalty=bestPenalty_1,alpha=bestAlpha_1,class_weight=\"balanced\")\n",
    "svm_newfetur_testModel.fit(X_tr_newfeatures,Y_train)\n",
    "\n",
    "y_train_pred=svm_newfetur_testModel.decision_function(X_tr_newfeatures)\n",
    "y_test_pred=svm_newfetur_testModel.decision_function(X_te_newfeatures)\n",
    "\n",
    "train_fpr, train_tpr, tr_thresholds = roc_curve(Y_train, y_train_pred)\n",
    "test_fpr, test_tpr, te_thresholds = roc_curve(Y_test, y_test_pred)\n",
    "\n",
    "ax = plt.subplot()\n",
    "\n",
    "auc_set1_train=auc(train_fpr, train_tpr)\n",
    "auc_set1_test=auc(test_fpr, test_tpr)\n",
    "\n",
    "\n",
    "ax.plot(train_fpr, train_tpr, label=\"Train AUC =\"+str(auc(train_fpr, train_tpr)))\n",
    "ax.plot(test_fpr, test_tpr, label=\"Test AUC =\"+str(auc(test_fpr, test_tpr)))\n",
    "plt.legend()\n",
    "plt.xlabel(\"False Positive Rate(FPR)\")\n",
    "plt.ylabel(\"True Positive Rate(TPR)\")\n",
    "plt.title(\"AUC\")\n",
    "plt.grid(b=True, which='major', color='k', linestyle=':')\n",
    "ax.set_facecolor(\"white\")\n",
    "plt.show()"
   ]
  },
  {
   "cell_type": "markdown",
   "metadata": {},
   "source": [
    "#### Observations\n",
    "1.By looking ROC curve of Training FPR and TPR it looks sensible as it is greater than diagonal line \n",
    "\n",
    "2.By looking ROC curve of Test FPR and TPR is sensible .Model is generalize model"
   ]
  },
  {
   "cell_type": "markdown",
   "metadata": {},
   "source": [
    "### 7.6 confusion matrix"
   ]
  },
  {
   "cell_type": "code",
   "execution_count": 86,
   "metadata": {},
   "outputs": [
    {
     "name": "stdout",
     "output_type": "stream",
     "text": [
      "====================================================================================================\n",
      "Train confusion matrix\n",
      "[[ 5185  2241]\n",
      " [12558 29057]]\n",
      "====================================================================================================\n",
      "Accuracy score  for Train\n",
      "0.6982320915152628\n",
      "====================================================================================================\n",
      "Test confusion matrix\n",
      "[[ 3861  1598]\n",
      " [11849 18744]]\n",
      "====================================================================================================\n",
      "Accuracy score  for Test\n",
      "0.6270109841340287\n",
      "====================================================================================================\n"
     ]
    }
   ],
   "source": [
    "from sklearn.metrics import accuracy_score \n",
    "from sklearn.metrics import classification_report\n",
    "\n",
    "y_train_predicted_withthroshold=predict(y_train_pred, tr_thresholds, train_fpr, train_tpr)\n",
    "y_test_predicted_withthroshold=predict(y_test_pred, tr_thresholds, test_fpr, test_tpr)\n",
    "\n",
    "cm_train=confusion_matrix(Y_train,y_train_predicted_withthroshold,labels=[0, 1])\n",
    "\n",
    "\n",
    "\n",
    "print(\"=\"*100)\n",
    "from sklearn.metrics import confusion_matrix\n",
    "print(\"Train confusion matrix\")\n",
    "print(cm_train)\n",
    "print(\"=\"*100)\n",
    "print(\"Accuracy score  for Train\")\n",
    "print(accuracy_score(Y_train, predict(y_train_pred, tr_thresholds, train_fpr, train_tpr)))\n",
    "print(\"=\"*100)\n",
    "\n",
    "cm_test=confusion_matrix(Y_test,y_test_predicted_withthroshold,labels=[0, 1])\n",
    "\n",
    "print(\"Test confusion matrix\")\n",
    "print(cm_test)\n",
    "print(\"=\"*100)\n",
    "print(\"Accuracy score  for Test\")\n",
    "print(accuracy_score(Y_test, predict(y_test_pred, tr_thresholds, test_fpr, test_tpr)))\n",
    "print(\"=\"*100)\n"
   ]
  },
  {
   "cell_type": "code",
   "execution_count": 87,
   "metadata": {},
   "outputs": [
    {
     "name": "stdout",
     "output_type": "stream",
     "text": [
      "confusion matrix for train data\n",
      "====================================================================================================\n"
     ]
    },
    {
     "data": {
      "image/png": "[encoded data removed]",
      "text/plain": [
       "<Figure size 432x288 with 1 Axes>"
      ]
     },
     "metadata": {
      "needs_background": "light"
     },
     "output_type": "display_data"
    },
    {
     "name": "stdout",
     "output_type": "stream",
     "text": [
      "confusion matrix for Test data\n",
      "====================================================================================================\n"
     ]
    },
    {
     "data": {
      "image/png": "[encoded data removed]",
      "text/plain": [
       "<Figure size 432x288 with 1 Axes>"
      ]
     },
     "metadata": {
      "needs_background": "light"
     },
     "output_type": "display_data"
    }
   ],
   "source": [
    "\n",
    "print(\"confusion matrix for train data\")\n",
    "print(\"=\"*100)\n",
    "myplot_matrix1(cm_train)\n",
    "print(\"confusion matrix for Test data\")\n",
    "\n",
    "print(\"=\"*100)\n",
    "myplot_matrix1(cm_test)"
   ]
  },
  {
   "cell_type": "markdown",
   "metadata": {},
   "source": [
    "#### observations\n",
    "1.TN and TP of train data and test data is higher.\n",
    "\n",
    "2.Accuracy score on train data is 71% and test data is 63%.\n",
    "\n",
    "3.TPR rate of test data is 92% .FPR rate of test data is 75%.TPR rate of test data is more than FPR rate of test data\n",
    "\n",
    "4.TNR rate of testdata is 24% .FNR of test data is 7%.TNR rate of test data is more than FNR rate of test data.\n",
    "\n",
    "5.model is not sensible ."
   ]
  },
  {
   "cell_type": "markdown",
   "metadata": {},
   "source": [
    "## 8.Model Performance Table"
   ]
  },
  {
   "cell_type": "code",
   "execution_count": 88,
   "metadata": {},
   "outputs": [
    {
     "name": "stdout",
     "output_type": "stream",
     "text": [
      "+-----------------------+-----------------------------+--------------+--------------------+\n",
      "|       Vectorizer      | Hyper Parameter(best alpha) | Best penalty |     bestScore      |\n",
      "+-----------------------+-----------------------------+--------------+--------------------+\n",
      "|      SVM with Bow     |             0.01            |      l2      | 0.702684628490133  |\n",
      "|     SVM with TFIDF    |            0.0001           |      l1      | 0.6959525675812355 |\n",
      "|     SVM with AVGW2V   |            0.0001           |      l1      | 0.6897824849133843 |\n",
      "|      SVM TFIDF W2V    |            0.001            |      l2      | 0.6863009515526851 |\n",
      "| SVM with new features |            0.0001           |      l2      | 0.7052392654365356 |\n",
      "+-----------------------+-----------------------------+--------------+--------------------+\n"
     ]
    }
   ],
   "source": [
    "from prettytable import PrettyTable\n",
    "x = PrettyTable()\n",
    "\n",
    "x.field_names = [\"Vectorizer\", \"Hyper Parameter(best alpha)\", \"Best penalty\",\"bestScore\"]\n",
    "x.add_row([\" SVM with Bow\",bestAlpha_bow,bestPenalty_bow,bestScore_bow])\n",
    "x.add_row([\" SVM with TFIDF\",bestAlpha_tfidf,bestPenalty_tfidf,bestScore_tfidf])\n",
    "x.add_row([\" SVM with AVGW2V\",bestAlpha_avgw2v,bestPenalty_avgw2v,bestScore_avgw2v])\n",
    "x.add_row([\" SVM TFIDF W2V\",bestAlpha_tfidfw2v,bestPenalty_tfidfw2v,bestScore_tfidfw2v])\n",
    "x.add_row([\"SVM with new features\",bestAlpha_newFetur,bestPenalty_newFetur,bestScore_newFetur])\n",
    "\n",
    "bestAlpha_newFetur=bestAlpha_1\n",
    "bestPenalty_newFetur=bestPenalty_1\n",
    "bestScore_newFetur=bestScore_1\n",
    "\n",
    "\n",
    "\n",
    "\n",
    "print(x)"
   ]
  },
  {
   "cell_type": "markdown",
   "metadata": {},
   "source": [
    "### observations\n",
    "1.SVM with BOW and SVM with new features give good score\n",
    "\n",
    "2.Most model shows l2 as good regularization."
   ]
  }
 ],
 "metadata": {
  "colab": {
   "name": "LogisticRegression.ipynb",
   "provenance": [],
   "version": "0.3.2"
  },
  "kernelspec": {
   "display_name": "Python 3",
   "language": "python",
   "name": "python3"
  },
  "language_info": {
   "codemirror_mode": {
    "name": "ipython",
    "version": 3
   },
   "file_extension": ".py",
   "mimetype": "text/x-python",
   "name": "python",
   "nbconvert_exporter": "python",
   "pygments_lexer": "ipython3",
   "version": "3.8.5"
  }
 },
 "nbformat": 4,
 "nbformat_minor": 1
}
